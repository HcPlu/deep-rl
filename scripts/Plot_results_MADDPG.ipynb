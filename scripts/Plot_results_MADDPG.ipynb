{
 "cells": [
  {
   "cell_type": "markdown",
   "id": "0fe19209",
   "metadata": {},
   "source": [
    "### Create plots for the results\n",
    "Use seaborn lineplot \n",
    "https://stackabuse.com/seaborn-line-plot-tutorial-and-examples\n",
    "\n",
    "# Be careful with the order of the algorithms!!! \n",
    "#  safeMADDPGsoft, MADDPG, safeMADDPGsoftrewards, safeMADDPGhard"
   ]
  },
  {
   "cell_type": "code",
   "execution_count": 1,
   "id": "1e4f0f6e",
   "metadata": {
    "ExecuteTime": {
     "end_time": "2021-07-17T10:40:52.844373Z",
     "start_time": "2021-07-17T10:40:49.726898Z"
    }
   },
   "outputs": [],
   "source": [
    "import numpy as np\n",
    "import pandas as pd\n",
    "import matplotlib.pyplot as plt\n",
    "import seaborn as sns\n",
    "import os"
   ]
  },
  {
   "cell_type": "code",
   "execution_count": 2,
   "id": "47f53385",
   "metadata": {
    "ExecuteTime": {
     "end_time": "2021-07-17T10:41:00.334961Z",
     "start_time": "2021-07-17T10:41:00.319981Z"
    }
   },
   "outputs": [],
   "source": [
    "safe_maddpg_soft = '../data/agents/SafeMADDPG_soft/'\n",
    "safe_maddpg_hard = '../data/agents/SafeMADDPG_hard/'\n",
    "maddpg_vanilla   = '../data/agents/MADDPG/'"
   ]
  },
  {
   "cell_type": "code",
   "execution_count": 3,
   "id": "467a4122",
   "metadata": {
    "ExecuteTime": {
     "end_time": "2021-07-17T10:41:12.235582Z",
     "start_time": "2021-07-17T10:41:12.224257Z"
    }
   },
   "outputs": [],
   "source": [
    "seed_range = np.arange(5,14)\n",
    "N = 8000"
   ]
  },
  {
   "cell_type": "code",
   "execution_count": 4,
   "id": "1769d5b5",
   "metadata": {
    "ExecuteTime": {
     "end_time": "2021-07-17T10:41:23.905662Z",
     "start_time": "2021-07-17T10:41:23.894966Z"
    }
   },
   "outputs": [],
   "source": [
    "rewards_soft    = []\n",
    "rewards_hard    = []\n",
    "rewards_maddpg = []\n",
    "rewards_seed=[]\n",
    "rewards_soft_rewards =[]\n",
    "\n",
    "collisions_seed=[]\n",
    "collisions_soft=[]\n",
    "collisions_hard =[]\n",
    "collisions_maddpg=[]\n",
    "collisions_soft_rewards= []\n",
    "    \n",
    "infeasibilities_soft = []\n",
    "infeasibilities_hard = []"
   ]
  },
  {
   "cell_type": "code",
   "execution_count": 5,
   "id": "1b899321",
   "metadata": {
    "ExecuteTime": {
     "end_time": "2021-07-17T10:42:21.731944Z",
     "start_time": "2021-07-17T10:42:20.963641Z"
    }
   },
   "outputs": [],
   "source": [
    "import scipy\n",
    "sigma = 10\n",
    "for seed in seed_range:\n",
    "    \n",
    "\n",
    "    # Import Results\n",
    "    \n",
    "    signal_soft=np.load(safe_maddpg_soft +\"seed\" + str(seed) + \"/\" + 'rewards.npy')\n",
    "    signal_soft_gaus = scipy.ndimage.gaussian_filter1d(signal_soft, sigma = sigma)\n",
    "    \n",
    "    signal_hard=np.load(safe_maddpg_hard +\"seed\" + str(seed) + \"/\" + 'rewards.npy')\n",
    "    signal_hard_gaus = scipy.ndimage.gaussian_filter1d(signal_hard, sigma = sigma)\n",
    "    \n",
    "    signal_vanilla=np.load(maddpg_vanilla +\"seed\" + str(seed) + \"/\" + 'rewards.npy')\n",
    "    signal_vanilla_gaus = scipy.ndimage.gaussian_filter1d(signal_vanilla, sigma = sigma)\n",
    "    \n",
    "    #rewards:\n",
    "    rewards_soft.append(signal_soft_gaus[0:N:10]) #list of arrays\n",
    "    rewards_hard.append(signal_hard_gaus[0:N:10])\n",
    "    rewards_maddpg.append(signal_vanilla_gaus[0:N:10])\n",
    "    #rewards_soft_rewards.append(signal_soft_rew_gaus[0:N:10])\n",
    "    rewards_seed.append([seed]*len(rewards_soft[-1]))\n",
    "    \n",
    "    #collisions:\n",
    "    collisions_soft.append(np.load(safe_maddpg_soft + \"seed\" + str(seed) + \"_new/\" + 'collisions.npy')[0:N])\n",
    "    #collisions_soft_rewards.append(np.load(safe_maddpg_soft_rewards + \"seed\" + str(seed) + \"/\" + 'collisions.npy')[0:N])\n",
    "    collisions_hard.append(np.load(safe_maddpg_hard + \"seed\" + str(seed) + \"_new/\" + 'collisions.npy')[0:N])\n",
    "    collisions_maddpg.append(np.load(maddpg_vanilla + \"seed\" + str(seed) + \"_new/\" +'collisions.npy')[0:N])\n",
    "    collisions_seed.append([seed]*len(collisions_soft[-1]))\n",
    "    \n",
    "    \n",
    "    #infeasibilities:\n",
    "    infeasibilities_soft.append(np.load(safe_maddpg_soft + \"seed\" + str(seed) + \"_new/\" +'infeasible.npy')[0:N])\n",
    "    infeasibilities_hard.append(np.load(safe_maddpg_hard + \"seed\" + str(seed) + \"_new/\" +'infeasible.npy')[0:N])\n",
    "\n",
    "episodes_list_rew=list(range(0,N, 10))*len(rewards_soft)\n",
    "episodes_list_col= list(range(0,N))*len(rewards_soft)"
   ]
  },
  {
   "cell_type": "code",
   "execution_count": 7,
   "id": "b6c330b9",
   "metadata": {
    "ExecuteTime": {
     "end_time": "2021-07-17T10:42:29.251164Z",
     "start_time": "2021-07-17T10:42:29.234999Z"
    }
   },
   "outputs": [],
   "source": [
    "infeasibilities_hard_list = [item for sublist in infeasibilities_hard for item in sublist]"
   ]
  },
  {
   "cell_type": "code",
   "execution_count": 8,
   "id": "5a971d3f",
   "metadata": {
    "ExecuteTime": {
     "end_time": "2021-07-17T10:42:31.175032Z",
     "start_time": "2021-07-17T10:42:31.156984Z"
    }
   },
   "outputs": [],
   "source": [
    "#infeasibilities_hard_list \n",
    "infeasibilities_mean= [np.mean(ar) for ar in infeasibilities_hard]"
   ]
  },
  {
   "cell_type": "code",
   "execution_count": 652,
   "id": "f3ac7550",
   "metadata": {
    "ExecuteTime": {
     "end_time": "2021-06-11T10:13:15.750964Z",
     "start_time": "2021-06-11T10:13:15.730549Z"
    }
   },
   "outputs": [
    {
     "data": {
      "text/plain": [
       "[10.185375,\n",
       " 10.26075,\n",
       " 10.61225,\n",
       " 10.285625,\n",
       " 10.365125,\n",
       " 10.69575,\n",
       " 10.972125,\n",
       " 10.627,\n",
       " 10.494375,\n",
       " 10.447625,\n",
       " 10.61625]"
      ]
     },
     "execution_count": 652,
     "metadata": {},
     "output_type": "execute_result"
    }
   ],
   "source": [
    "infeasibilities_mean"
   ]
  },
  {
   "cell_type": "code",
   "execution_count": 471,
   "id": "2fd28178",
   "metadata": {
    "ExecuteTime": {
     "end_time": "2021-06-08T11:09:21.640978Z",
     "start_time": "2021-06-08T11:09:21.625279Z"
    }
   },
   "outputs": [
    {
     "data": {
      "text/plain": [
       "10"
      ]
     },
     "execution_count": 471,
     "metadata": {},
     "output_type": "execute_result"
    }
   ],
   "source": [
    "len(collisions_maddpg)"
   ]
  },
  {
   "cell_type": "code",
   "execution_count": null,
   "id": "e6c22523",
   "metadata": {},
   "outputs": [],
   "source": [
    "for seed in seed_range:\n",
    "    \n",
    "\n",
    "    # Import Results\n",
    "    \n",
    "    \n",
    "    \n",
    "    \n",
    "    \n",
    "    #rewards:\n",
    "    rewards_soft.append(np.load(safe_maddpg_soft +\"seed\" + str(seed) + \"/\" + 'rewards.npy')[0:N:10]) #list of arrays\n",
    "    rewards_hard.append(np.load(safe_maddpg_hard + \"seed\" + str(seed) + \"/\"+'rewards.npy')[0:N:10])\n",
    "    rewards_maddpg.append(np.load(maddpg_vanilla + \"seed\" + str(seed) + \"/\" + 'rewards.npy')[0:N:10])\n",
    "    rewards_soft_rewards.append(np.load(maddpg_vanilla + \"seed\" + str(seed) + \"/\" + 'rewards.npy')[0:N:10])\n",
    "    rewards_seed.append([seed]*len(rewards_soft[-1]))\n",
    "    \n",
    "    #collisions:\n",
    "    collisions_soft.append(np.load(safe_maddpg_soft + \"seed\" + str(seed) + \"/\" + 'collisions.npy')[0:N])\n",
    "    collisions_soft_rewards.append(np.load(safe_maddpg_soft_rewards + \"seed\" + str(seed) + \"/\" + 'collisions.npy')[0:N])\n",
    "    collisions_hard.append(np.load(safe_maddpg_hard + \"seed\" + str(seed) + \"/\" + 'collisions.npy')[0:N])\n",
    "    collisions_maddpg.append(np.load(maddpg_vanilla + \"seed\" + str(seed) + \"/\" +'collisions.npy')[0:N])\n",
    "    collisions_seed.append([seed]*len(collisions_soft[-1]))\n",
    "    \n",
    "    \n",
    "    #infeasibilities:\n",
    "    infeasibilities_soft.append(np.load(safe_maddpg_soft + \"seed\" + str(seed) + \"/\" +'infeasible.npy')[0:N])\n",
    "    infeasibilities_hard.append(np.load(safe_maddpg_hard + \"seed\" + str(seed) + \"/\" +'infeasible.npy')[0:N])\n",
    "\n",
    "episodes_list_rew=list(range(0,8000, 10))*len(rewards_soft)\n",
    "episodes_list_col= list(range(0,8000))*len(rewards_soft)"
   ]
  },
  {
   "cell_type": "code",
   "execution_count": 9,
   "id": "57a1f8aa",
   "metadata": {
    "ExecuteTime": {
     "end_time": "2021-07-17T10:42:59.253277Z",
     "start_time": "2021-07-17T10:42:59.237626Z"
    }
   },
   "outputs": [],
   "source": [
    "#flatten list\n",
    "rewards_soft_list = [item for sublist in rewards_soft for item in sublist]\n",
    "rewards_maddpg_list = [item for sublist in rewards_maddpg for item in sublist]\n",
    "#rewards_soft_rewards_list=[item for sublist in rewards_soft_rewards for item in sublist]\n",
    "rewards_hard_list = [item for sublist in rewards_hard for item in sublist]\n",
    "rewards_seed_list= [item for sublist in rewards_seed for item in sublist]\n",
    "rewards_type=['soft MADDPG']*len(rewards_soft_list) + ['MADDPG']*len(rewards_maddpg_list)  + ['hard MADDPG']*len(rewards_hard_list)"
   ]
  },
  {
   "cell_type": "code",
   "execution_count": 10,
   "id": "0a3bea36",
   "metadata": {
    "ExecuteTime": {
     "end_time": "2021-07-17T10:43:02.199596Z",
     "start_time": "2021-07-17T10:43:02.173134Z"
    }
   },
   "outputs": [],
   "source": [
    "rewards_df=pd.DataFrame()\n",
    "rewards_df['type']=rewards_type\n",
    "rewards_df['seed']=rewards_seed_list*3\n",
    "rewards_df['Average Reward']=rewards_soft_list + rewards_maddpg_list + rewards_hard_list\n",
    "rewards_df['Episode']=episodes_list_rew*3 #3 times the same, one for each algorithm"
   ]
  },
  {
   "cell_type": "code",
   "execution_count": 11,
   "id": "2f25e550",
   "metadata": {
    "ExecuteTime": {
     "end_time": "2021-07-17T10:43:04.551906Z",
     "start_time": "2021-07-17T10:43:04.520155Z"
    }
   },
   "outputs": [
    {
     "data": {
      "text/html": [
       "<div>\n",
       "<style scoped>\n",
       "    .dataframe tbody tr th:only-of-type {\n",
       "        vertical-align: middle;\n",
       "    }\n",
       "\n",
       "    .dataframe tbody tr th {\n",
       "        vertical-align: top;\n",
       "    }\n",
       "\n",
       "    .dataframe thead th {\n",
       "        text-align: right;\n",
       "    }\n",
       "</style>\n",
       "<table border=\"1\" class=\"dataframe\">\n",
       "  <thead>\n",
       "    <tr style=\"text-align: right;\">\n",
       "      <th></th>\n",
       "      <th>type</th>\n",
       "      <th>seed</th>\n",
       "      <th>Average Reward</th>\n",
       "      <th>Episode</th>\n",
       "    </tr>\n",
       "  </thead>\n",
       "  <tbody>\n",
       "    <tr>\n",
       "      <th>0</th>\n",
       "      <td>soft MADDPG</td>\n",
       "      <td>5</td>\n",
       "      <td>-674.653457</td>\n",
       "      <td>0</td>\n",
       "    </tr>\n",
       "    <tr>\n",
       "      <th>1</th>\n",
       "      <td>soft MADDPG</td>\n",
       "      <td>5</td>\n",
       "      <td>-647.856227</td>\n",
       "      <td>10</td>\n",
       "    </tr>\n",
       "    <tr>\n",
       "      <th>2</th>\n",
       "      <td>soft MADDPG</td>\n",
       "      <td>5</td>\n",
       "      <td>-620.624352</td>\n",
       "      <td>20</td>\n",
       "    </tr>\n",
       "    <tr>\n",
       "      <th>3</th>\n",
       "      <td>soft MADDPG</td>\n",
       "      <td>5</td>\n",
       "      <td>-621.332021</td>\n",
       "      <td>30</td>\n",
       "    </tr>\n",
       "    <tr>\n",
       "      <th>4</th>\n",
       "      <td>soft MADDPG</td>\n",
       "      <td>5</td>\n",
       "      <td>-630.604851</td>\n",
       "      <td>40</td>\n",
       "    </tr>\n",
       "    <tr>\n",
       "      <th>...</th>\n",
       "      <td>...</td>\n",
       "      <td>...</td>\n",
       "      <td>...</td>\n",
       "      <td>...</td>\n",
       "    </tr>\n",
       "    <tr>\n",
       "      <th>21595</th>\n",
       "      <td>hard MADDPG</td>\n",
       "      <td>13</td>\n",
       "      <td>-68.125924</td>\n",
       "      <td>7950</td>\n",
       "    </tr>\n",
       "    <tr>\n",
       "      <th>21596</th>\n",
       "      <td>hard MADDPG</td>\n",
       "      <td>13</td>\n",
       "      <td>-73.670680</td>\n",
       "      <td>7960</td>\n",
       "    </tr>\n",
       "    <tr>\n",
       "      <th>21597</th>\n",
       "      <td>hard MADDPG</td>\n",
       "      <td>13</td>\n",
       "      <td>-77.525790</td>\n",
       "      <td>7970</td>\n",
       "    </tr>\n",
       "    <tr>\n",
       "      <th>21598</th>\n",
       "      <td>hard MADDPG</td>\n",
       "      <td>13</td>\n",
       "      <td>-73.748678</td>\n",
       "      <td>7980</td>\n",
       "    </tr>\n",
       "    <tr>\n",
       "      <th>21599</th>\n",
       "      <td>hard MADDPG</td>\n",
       "      <td>13</td>\n",
       "      <td>-70.478768</td>\n",
       "      <td>7990</td>\n",
       "    </tr>\n",
       "  </tbody>\n",
       "</table>\n",
       "<p>21600 rows × 4 columns</p>\n",
       "</div>"
      ],
      "text/plain": [
       "              type  seed  Average Reward  Episode\n",
       "0      soft MADDPG     5     -674.653457        0\n",
       "1      soft MADDPG     5     -647.856227       10\n",
       "2      soft MADDPG     5     -620.624352       20\n",
       "3      soft MADDPG     5     -621.332021       30\n",
       "4      soft MADDPG     5     -630.604851       40\n",
       "...            ...   ...             ...      ...\n",
       "21595  hard MADDPG    13      -68.125924     7950\n",
       "21596  hard MADDPG    13      -73.670680     7960\n",
       "21597  hard MADDPG    13      -77.525790     7970\n",
       "21598  hard MADDPG    13      -73.748678     7980\n",
       "21599  hard MADDPG    13      -70.478768     7990\n",
       "\n",
       "[21600 rows x 4 columns]"
      ]
     },
     "execution_count": 11,
     "metadata": {},
     "output_type": "execute_result"
    }
   ],
   "source": [
    "rewards_df"
   ]
  },
  {
   "cell_type": "code",
   "execution_count": 12,
   "id": "eb33f0e1",
   "metadata": {
    "ExecuteTime": {
     "end_time": "2021-07-17T10:43:14.758256Z",
     "start_time": "2021-07-17T10:43:14.738217Z"
    }
   },
   "outputs": [],
   "source": [
    "collisions_soft_list = [item for sublist in collisions_soft for item in sublist]\n",
    "#collisions_soft_rewards_list = [item for sublist in collisions_soft_rewards for item in sublist]\n",
    "collisions_maddpg_list = [item for sublist in collisions_maddpg for item in sublist]\n",
    "collisions_seed_list= [item for sublist in collisions_seed for item in sublist]\n",
    "collisions_hard_list= [item for sublist in collisions_hard for item in sublist]\n",
    "collisions_type=['soft MADDPG']*len(collisions_soft_list) + ['MADDPG']*len(collisions_maddpg_list) + ['hard MADDPG']*len(collisions_hard_list)"
   ]
  },
  {
   "cell_type": "code",
   "execution_count": 379,
   "id": "d817940f",
   "metadata": {
    "ExecuteTime": {
     "end_time": "2021-06-07T17:39:26.403882Z",
     "start_time": "2021-06-07T17:39:26.391223Z"
    }
   },
   "outputs": [
    {
     "data": {
      "text/plain": [
       "352000"
      ]
     },
     "execution_count": 379,
     "metadata": {},
     "output_type": "execute_result"
    }
   ],
   "source": [
    "len(episodes_list_col*4)"
   ]
  },
  {
   "cell_type": "code",
   "execution_count": 13,
   "id": "494a7977",
   "metadata": {
    "ExecuteTime": {
     "end_time": "2021-07-17T10:43:19.166624Z",
     "start_time": "2021-07-17T10:43:19.005161Z"
    }
   },
   "outputs": [],
   "source": [
    "collisions_df=pd.DataFrame()\n",
    "collisions_df['Type']=collisions_type\n",
    "collisions_df['Seed']=collisions_seed_list*3\n",
    "collisions_df['Total Collisions']=collisions_soft_list + collisions_maddpg_list + collisions_hard_list\n",
    "collisions_df['Episode']=episodes_list_col*3"
   ]
  },
  {
   "cell_type": "code",
   "execution_count": 14,
   "id": "fe74a729",
   "metadata": {
    "ExecuteTime": {
     "end_time": "2021-07-17T10:43:23.835831Z",
     "start_time": "2021-07-17T10:43:23.533499Z"
    }
   },
   "outputs": [
    {
     "ename": "KeyError",
     "evalue": "'Total Reward'",
     "output_type": "error",
     "traceback": [
      "\u001b[1;31m---------------------------------------------------------------------------\u001b[0m",
      "\u001b[1;31mKeyError\u001b[0m                                  Traceback (most recent call last)",
      "\u001b[1;32m~\\anaconda3\\lib\\site-packages\\pandas\\core\\indexes\\base.py\u001b[0m in \u001b[0;36mget_loc\u001b[1;34m(self, key, method, tolerance)\u001b[0m\n\u001b[0;32m   3079\u001b[0m             \u001b[1;32mtry\u001b[0m\u001b[1;33m:\u001b[0m\u001b[1;33m\u001b[0m\u001b[1;33m\u001b[0m\u001b[0m\n\u001b[1;32m-> 3080\u001b[1;33m                 \u001b[1;32mreturn\u001b[0m \u001b[0mself\u001b[0m\u001b[1;33m.\u001b[0m\u001b[0m_engine\u001b[0m\u001b[1;33m.\u001b[0m\u001b[0mget_loc\u001b[0m\u001b[1;33m(\u001b[0m\u001b[0mcasted_key\u001b[0m\u001b[1;33m)\u001b[0m\u001b[1;33m\u001b[0m\u001b[1;33m\u001b[0m\u001b[0m\n\u001b[0m\u001b[0;32m   3081\u001b[0m             \u001b[1;32mexcept\u001b[0m \u001b[0mKeyError\u001b[0m \u001b[1;32mas\u001b[0m \u001b[0merr\u001b[0m\u001b[1;33m:\u001b[0m\u001b[1;33m\u001b[0m\u001b[1;33m\u001b[0m\u001b[0m\n",
      "\u001b[1;32mpandas\\_libs\\index.pyx\u001b[0m in \u001b[0;36mpandas._libs.index.IndexEngine.get_loc\u001b[1;34m()\u001b[0m\n",
      "\u001b[1;32mpandas\\_libs\\index.pyx\u001b[0m in \u001b[0;36mpandas._libs.index.IndexEngine.get_loc\u001b[1;34m()\u001b[0m\n",
      "\u001b[1;32mpandas\\_libs\\hashtable_class_helper.pxi\u001b[0m in \u001b[0;36mpandas._libs.hashtable.PyObjectHashTable.get_item\u001b[1;34m()\u001b[0m\n",
      "\u001b[1;32mpandas\\_libs\\hashtable_class_helper.pxi\u001b[0m in \u001b[0;36mpandas._libs.hashtable.PyObjectHashTable.get_item\u001b[1;34m()\u001b[0m\n",
      "\u001b[1;31mKeyError\u001b[0m: 'Total Reward'",
      "\nThe above exception was the direct cause of the following exception:\n",
      "\u001b[1;31mKeyError\u001b[0m                                  Traceback (most recent call last)",
      "\u001b[1;32m<ipython-input-14-07b6a5882b23>\u001b[0m in \u001b[0;36m<module>\u001b[1;34m\u001b[0m\n\u001b[0;32m      1\u001b[0m \u001b[0mcollisions_df_vanilla\u001b[0m\u001b[1;33m=\u001b[0m \u001b[0mcollisions_df\u001b[0m\u001b[1;33m[\u001b[0m\u001b[1;33m(\u001b[0m\u001b[0mcollisions_df\u001b[0m\u001b[1;33m[\u001b[0m\u001b[1;34m'Type'\u001b[0m\u001b[1;33m]\u001b[0m\u001b[1;33m==\u001b[0m \u001b[1;34m'MADDPG'\u001b[0m\u001b[1;33m)\u001b[0m\u001b[1;33m&\u001b[0m \u001b[1;33m(\u001b[0m\u001b[0mcollisions_df\u001b[0m\u001b[1;33m[\u001b[0m\u001b[1;34m'Episode'\u001b[0m\u001b[1;33m]\u001b[0m\u001b[1;33m==\u001b[0m \u001b[1;36m7999\u001b[0m\u001b[1;33m)\u001b[0m\u001b[1;33m]\u001b[0m\u001b[1;33m[\u001b[0m\u001b[1;34m'Total Collisions'\u001b[0m\u001b[1;33m]\u001b[0m\u001b[1;33m.\u001b[0m\u001b[0mvalues\u001b[0m\u001b[1;33m\u001b[0m\u001b[1;33m\u001b[0m\u001b[0m\n\u001b[1;32m----> 2\u001b[1;33m \u001b[0mrewards_df_vanilla\u001b[0m\u001b[1;33m=\u001b[0m \u001b[0mrewards_df\u001b[0m\u001b[1;33m[\u001b[0m\u001b[1;33m(\u001b[0m\u001b[0mrewards_df\u001b[0m\u001b[1;33m[\u001b[0m\u001b[1;34m'type'\u001b[0m\u001b[1;33m]\u001b[0m\u001b[1;33m==\u001b[0m \u001b[1;34m'MADDPG'\u001b[0m\u001b[1;33m)\u001b[0m\u001b[1;33m&\u001b[0m \u001b[1;33m(\u001b[0m\u001b[0mrewards_df\u001b[0m\u001b[1;33m[\u001b[0m\u001b[1;34m'Episode'\u001b[0m\u001b[1;33m]\u001b[0m\u001b[1;33m==\u001b[0m \u001b[1;36m7990\u001b[0m\u001b[1;33m)\u001b[0m\u001b[1;33m]\u001b[0m\u001b[1;33m[\u001b[0m\u001b[1;34m'Total Reward'\u001b[0m\u001b[1;33m]\u001b[0m\u001b[1;33m.\u001b[0m\u001b[0mvalues\u001b[0m\u001b[1;33m\u001b[0m\u001b[1;33m\u001b[0m\u001b[0m\n\u001b[0m\u001b[0;32m      3\u001b[0m \u001b[1;33m\u001b[0m\u001b[0m\n\u001b[0;32m      4\u001b[0m \u001b[0mcollisions_df_hard\u001b[0m\u001b[1;33m=\u001b[0m \u001b[0mcollisions_df\u001b[0m\u001b[1;33m[\u001b[0m\u001b[1;33m(\u001b[0m\u001b[0mcollisions_df\u001b[0m\u001b[1;33m[\u001b[0m\u001b[1;34m'Type'\u001b[0m\u001b[1;33m]\u001b[0m\u001b[1;33m==\u001b[0m \u001b[1;34m'hard MADDPG'\u001b[0m\u001b[1;33m)\u001b[0m\u001b[1;33m&\u001b[0m \u001b[1;33m(\u001b[0m\u001b[0mcollisions_df\u001b[0m\u001b[1;33m[\u001b[0m\u001b[1;34m'Episode'\u001b[0m\u001b[1;33m]\u001b[0m\u001b[1;33m==\u001b[0m \u001b[1;36m7999\u001b[0m\u001b[1;33m)\u001b[0m\u001b[1;33m]\u001b[0m\u001b[1;33m[\u001b[0m\u001b[1;34m'Total Collisions'\u001b[0m\u001b[1;33m]\u001b[0m\u001b[1;33m.\u001b[0m\u001b[0mvalues\u001b[0m\u001b[1;33m\u001b[0m\u001b[1;33m\u001b[0m\u001b[0m\n\u001b[0;32m      5\u001b[0m \u001b[0mrewards_df_hard\u001b[0m\u001b[1;33m=\u001b[0m \u001b[0mrewards_df\u001b[0m\u001b[1;33m[\u001b[0m\u001b[1;33m(\u001b[0m\u001b[0mrewards_df\u001b[0m\u001b[1;33m[\u001b[0m\u001b[1;34m'type'\u001b[0m\u001b[1;33m]\u001b[0m\u001b[1;33m==\u001b[0m \u001b[1;34m'hard MADDPG'\u001b[0m\u001b[1;33m)\u001b[0m\u001b[1;33m&\u001b[0m \u001b[1;33m(\u001b[0m\u001b[0mrewards_df\u001b[0m\u001b[1;33m[\u001b[0m\u001b[1;34m'Episode'\u001b[0m\u001b[1;33m]\u001b[0m\u001b[1;33m==\u001b[0m \u001b[1;36m7990\u001b[0m\u001b[1;33m)\u001b[0m\u001b[1;33m]\u001b[0m\u001b[1;33m[\u001b[0m\u001b[1;34m'Total Reward'\u001b[0m\u001b[1;33m]\u001b[0m\u001b[1;33m.\u001b[0m\u001b[0mvalues\u001b[0m\u001b[1;33m\u001b[0m\u001b[1;33m\u001b[0m\u001b[0m\n",
      "\u001b[1;32m~\\anaconda3\\lib\\site-packages\\pandas\\core\\frame.py\u001b[0m in \u001b[0;36m__getitem__\u001b[1;34m(self, key)\u001b[0m\n\u001b[0;32m   3022\u001b[0m             \u001b[1;32mif\u001b[0m \u001b[0mself\u001b[0m\u001b[1;33m.\u001b[0m\u001b[0mcolumns\u001b[0m\u001b[1;33m.\u001b[0m\u001b[0mnlevels\u001b[0m \u001b[1;33m>\u001b[0m \u001b[1;36m1\u001b[0m\u001b[1;33m:\u001b[0m\u001b[1;33m\u001b[0m\u001b[1;33m\u001b[0m\u001b[0m\n\u001b[0;32m   3023\u001b[0m                 \u001b[1;32mreturn\u001b[0m \u001b[0mself\u001b[0m\u001b[1;33m.\u001b[0m\u001b[0m_getitem_multilevel\u001b[0m\u001b[1;33m(\u001b[0m\u001b[0mkey\u001b[0m\u001b[1;33m)\u001b[0m\u001b[1;33m\u001b[0m\u001b[1;33m\u001b[0m\u001b[0m\n\u001b[1;32m-> 3024\u001b[1;33m             \u001b[0mindexer\u001b[0m \u001b[1;33m=\u001b[0m \u001b[0mself\u001b[0m\u001b[1;33m.\u001b[0m\u001b[0mcolumns\u001b[0m\u001b[1;33m.\u001b[0m\u001b[0mget_loc\u001b[0m\u001b[1;33m(\u001b[0m\u001b[0mkey\u001b[0m\u001b[1;33m)\u001b[0m\u001b[1;33m\u001b[0m\u001b[1;33m\u001b[0m\u001b[0m\n\u001b[0m\u001b[0;32m   3025\u001b[0m             \u001b[1;32mif\u001b[0m \u001b[0mis_integer\u001b[0m\u001b[1;33m(\u001b[0m\u001b[0mindexer\u001b[0m\u001b[1;33m)\u001b[0m\u001b[1;33m:\u001b[0m\u001b[1;33m\u001b[0m\u001b[1;33m\u001b[0m\u001b[0m\n\u001b[0;32m   3026\u001b[0m                 \u001b[0mindexer\u001b[0m \u001b[1;33m=\u001b[0m \u001b[1;33m[\u001b[0m\u001b[0mindexer\u001b[0m\u001b[1;33m]\u001b[0m\u001b[1;33m\u001b[0m\u001b[1;33m\u001b[0m\u001b[0m\n",
      "\u001b[1;32m~\\anaconda3\\lib\\site-packages\\pandas\\core\\indexes\\base.py\u001b[0m in \u001b[0;36mget_loc\u001b[1;34m(self, key, method, tolerance)\u001b[0m\n\u001b[0;32m   3080\u001b[0m                 \u001b[1;32mreturn\u001b[0m \u001b[0mself\u001b[0m\u001b[1;33m.\u001b[0m\u001b[0m_engine\u001b[0m\u001b[1;33m.\u001b[0m\u001b[0mget_loc\u001b[0m\u001b[1;33m(\u001b[0m\u001b[0mcasted_key\u001b[0m\u001b[1;33m)\u001b[0m\u001b[1;33m\u001b[0m\u001b[1;33m\u001b[0m\u001b[0m\n\u001b[0;32m   3081\u001b[0m             \u001b[1;32mexcept\u001b[0m \u001b[0mKeyError\u001b[0m \u001b[1;32mas\u001b[0m \u001b[0merr\u001b[0m\u001b[1;33m:\u001b[0m\u001b[1;33m\u001b[0m\u001b[1;33m\u001b[0m\u001b[0m\n\u001b[1;32m-> 3082\u001b[1;33m                 \u001b[1;32mraise\u001b[0m \u001b[0mKeyError\u001b[0m\u001b[1;33m(\u001b[0m\u001b[0mkey\u001b[0m\u001b[1;33m)\u001b[0m \u001b[1;32mfrom\u001b[0m \u001b[0merr\u001b[0m\u001b[1;33m\u001b[0m\u001b[1;33m\u001b[0m\u001b[0m\n\u001b[0m\u001b[0;32m   3083\u001b[0m \u001b[1;33m\u001b[0m\u001b[0m\n\u001b[0;32m   3084\u001b[0m         \u001b[1;32mif\u001b[0m \u001b[0mtolerance\u001b[0m \u001b[1;32mis\u001b[0m \u001b[1;32mnot\u001b[0m \u001b[1;32mNone\u001b[0m\u001b[1;33m:\u001b[0m\u001b[1;33m\u001b[0m\u001b[1;33m\u001b[0m\u001b[0m\n",
      "\u001b[1;31mKeyError\u001b[0m: 'Total Reward'"
     ]
    }
   ],
   "source": [
    "collisions_df_vanilla= collisions_df[(collisions_df['Type']== 'MADDPG')& (collisions_df['Episode']== 7999)]['Total Collisions'].values\n",
    "rewards_df_vanilla= rewards_df[(rewards_df['type']== 'MADDPG')& (rewards_df['Episode']== 7990)]['Total Reward'].values\n",
    "\n",
    "collisions_df_hard= collisions_df[(collisions_df['Type']== 'hard MADDPG')& (collisions_df['Episode']== 7999)]['Total Collisions'].values\n",
    "rewards_df_hard= rewards_df[(rewards_df['type']== 'hard MADDPG')& (rewards_df['Episode']== 7990)]['Total Reward'].values\n",
    "\n",
    "collisions_df_soft= collisions_df[(collisions_df['Type']== 'soft MADDPG')& (collisions_df['Episode']== 7999)]['Total Collisions'].values\n",
    "rewards_df_soft= rewards_df[(rewards_df['type']== 'soft MADDPG')& (rewards_df['Episode']== 7990)]['Total Reward'].values"
   ]
  },
  {
   "cell_type": "code",
   "execution_count": 615,
   "id": "bcf9013f",
   "metadata": {
    "ExecuteTime": {
     "end_time": "2021-06-10T14:35:28.219432Z",
     "start_time": "2021-06-10T14:35:28.202153Z"
    }
   },
   "outputs": [
    {
     "data": {
      "text/plain": [
       "array([172715, 181337, 174530, 175746, 173347, 173218, 173420, 173819,\n",
       "       173869, 176819, 172759], dtype=int64)"
      ]
     },
     "execution_count": 615,
     "metadata": {},
     "output_type": "execute_result"
    }
   ],
   "source": [
    "collisions_df_vanilla"
   ]
  },
  {
   "cell_type": "code",
   "execution_count": 622,
   "id": "dad21c76",
   "metadata": {
    "ExecuteTime": {
     "end_time": "2021-06-10T14:48:14.076980Z",
     "start_time": "2021-06-10T14:48:14.061164Z"
    }
   },
   "outputs": [],
   "source": [
    "import scipy.stats\n",
    "def mean_confidence_interval(data, confidence=0.95):\n",
    "    a = 1.0 * np.array(data)\n",
    "    n = len(a)\n",
    "    m, se = np.mean(a), scipy.stats.sem(a)\n",
    "    h = se * scipy.stats.t.ppf((1 + confidence) / 2., n-1)\n",
    "    return m, m-h, m+h"
   ]
  },
  {
   "cell_type": "code",
   "execution_count": 632,
   "id": "485edc62",
   "metadata": {
    "ExecuteTime": {
     "end_time": "2021-06-10T15:15:37.725625Z",
     "start_time": "2021-06-10T15:15:37.716277Z"
    }
   },
   "outputs": [
    {
     "data": {
      "text/plain": [
       "(2296.818181818182, 2221.30921430177, 2372.3271493345937)"
      ]
     },
     "execution_count": 632,
     "metadata": {},
     "output_type": "execute_result"
    }
   ],
   "source": [
    "mean_confidence_interval(collisions_df_soft)"
   ]
  },
  {
   "cell_type": "markdown",
   "id": "d33477d8",
   "metadata": {},
   "source": [
    "### Plot for rewards: "
   ]
  },
  {
   "cell_type": "code",
   "execution_count": 15,
   "id": "b3fc0618",
   "metadata": {
    "ExecuteTime": {
     "end_time": "2021-07-17T10:43:37.338215Z",
     "start_time": "2021-07-17T10:43:37.168948Z"
    }
   },
   "outputs": [
    {
     "ename": "ValueError",
     "evalue": "Could not interpret value `Total Reward` for parameter `y`",
     "output_type": "error",
     "traceback": [
      "\u001b[1;31m---------------------------------------------------------------------------\u001b[0m",
      "\u001b[1;31mValueError\u001b[0m                                Traceback (most recent call last)",
      "\u001b[1;32m<ipython-input-15-13beb9859e95>\u001b[0m in \u001b[0;36m<module>\u001b[1;34m\u001b[0m\n\u001b[0;32m      2\u001b[0m \u001b[0mfig_dims\u001b[0m \u001b[1;33m=\u001b[0m \u001b[1;33m(\u001b[0m\u001b[1;36m6\u001b[0m\u001b[1;33m,\u001b[0m \u001b[1;36m5\u001b[0m\u001b[1;33m)\u001b[0m\u001b[1;33m\u001b[0m\u001b[1;33m\u001b[0m\u001b[0m\n\u001b[0;32m      3\u001b[0m \u001b[0mfig\u001b[0m\u001b[1;33m,\u001b[0m \u001b[0max\u001b[0m \u001b[1;33m=\u001b[0m \u001b[0mplt\u001b[0m\u001b[1;33m.\u001b[0m\u001b[0msubplots\u001b[0m\u001b[1;33m(\u001b[0m\u001b[0mfigsize\u001b[0m\u001b[1;33m=\u001b[0m\u001b[0mfig_dims\u001b[0m\u001b[1;33m)\u001b[0m\u001b[1;33m\u001b[0m\u001b[1;33m\u001b[0m\u001b[0m\n\u001b[1;32m----> 4\u001b[1;33m \u001b[0msns\u001b[0m\u001b[1;33m.\u001b[0m\u001b[0mlineplot\u001b[0m\u001b[1;33m(\u001b[0m\u001b[0mx\u001b[0m \u001b[1;33m=\u001b[0m \u001b[1;34m\"Episode\"\u001b[0m\u001b[1;33m,\u001b[0m \u001b[0my\u001b[0m \u001b[1;33m=\u001b[0m \u001b[1;34m\"Total Reward\"\u001b[0m\u001b[1;33m,\u001b[0m\u001b[0mhue\u001b[0m\u001b[1;33m=\u001b[0m\u001b[1;34m'type'\u001b[0m\u001b[1;33m,\u001b[0m \u001b[0mdata\u001b[0m \u001b[1;33m=\u001b[0m \u001b[0mrewards_df\u001b[0m\u001b[1;33m,\u001b[0m \u001b[0max\u001b[0m \u001b[1;33m=\u001b[0m \u001b[0max\u001b[0m\u001b[1;33m)\u001b[0m\u001b[1;33m\u001b[0m\u001b[1;33m\u001b[0m\u001b[0m\n\u001b[0m\u001b[0;32m      5\u001b[0m \u001b[0max\u001b[0m\u001b[1;33m.\u001b[0m\u001b[0mget_legend\u001b[0m\u001b[1;33m(\u001b[0m\u001b[1;33m)\u001b[0m\u001b[1;33m.\u001b[0m\u001b[0mset_title\u001b[0m\u001b[1;33m(\u001b[0m\u001b[0mtitle\u001b[0m \u001b[1;33m=\u001b[0m \u001b[1;34m''\u001b[0m\u001b[1;33m)\u001b[0m\u001b[1;33m\u001b[0m\u001b[1;33m\u001b[0m\u001b[0m\n\u001b[0;32m      6\u001b[0m \u001b[0mplt\u001b[0m\u001b[1;33m.\u001b[0m\u001b[0mshow\u001b[0m\u001b[1;33m(\u001b[0m\u001b[1;33m)\u001b[0m\u001b[1;33m\u001b[0m\u001b[1;33m\u001b[0m\u001b[0m\n",
      "\u001b[1;32m~\\anaconda3\\lib\\site-packages\\seaborn\\_decorators.py\u001b[0m in \u001b[0;36minner_f\u001b[1;34m(*args, **kwargs)\u001b[0m\n\u001b[0;32m     44\u001b[0m             )\n\u001b[0;32m     45\u001b[0m         \u001b[0mkwargs\u001b[0m\u001b[1;33m.\u001b[0m\u001b[0mupdate\u001b[0m\u001b[1;33m(\u001b[0m\u001b[1;33m{\u001b[0m\u001b[0mk\u001b[0m\u001b[1;33m:\u001b[0m \u001b[0marg\u001b[0m \u001b[1;32mfor\u001b[0m \u001b[0mk\u001b[0m\u001b[1;33m,\u001b[0m \u001b[0marg\u001b[0m \u001b[1;32min\u001b[0m \u001b[0mzip\u001b[0m\u001b[1;33m(\u001b[0m\u001b[0msig\u001b[0m\u001b[1;33m.\u001b[0m\u001b[0mparameters\u001b[0m\u001b[1;33m,\u001b[0m \u001b[0margs\u001b[0m\u001b[1;33m)\u001b[0m\u001b[1;33m}\u001b[0m\u001b[1;33m)\u001b[0m\u001b[1;33m\u001b[0m\u001b[1;33m\u001b[0m\u001b[0m\n\u001b[1;32m---> 46\u001b[1;33m         \u001b[1;32mreturn\u001b[0m \u001b[0mf\u001b[0m\u001b[1;33m(\u001b[0m\u001b[1;33m**\u001b[0m\u001b[0mkwargs\u001b[0m\u001b[1;33m)\u001b[0m\u001b[1;33m\u001b[0m\u001b[1;33m\u001b[0m\u001b[0m\n\u001b[0m\u001b[0;32m     47\u001b[0m     \u001b[1;32mreturn\u001b[0m \u001b[0minner_f\u001b[0m\u001b[1;33m\u001b[0m\u001b[1;33m\u001b[0m\u001b[0m\n\u001b[0;32m     48\u001b[0m \u001b[1;33m\u001b[0m\u001b[0m\n",
      "\u001b[1;32m~\\anaconda3\\lib\\site-packages\\seaborn\\relational.py\u001b[0m in \u001b[0;36mlineplot\u001b[1;34m(x, y, hue, size, style, data, palette, hue_order, hue_norm, sizes, size_order, size_norm, dashes, markers, style_order, units, estimator, ci, n_boot, seed, sort, err_style, err_kws, legend, ax, **kwargs)\u001b[0m\n\u001b[0;32m    683\u001b[0m \u001b[1;33m\u001b[0m\u001b[0m\n\u001b[0;32m    684\u001b[0m     \u001b[0mvariables\u001b[0m \u001b[1;33m=\u001b[0m \u001b[0m_LinePlotter\u001b[0m\u001b[1;33m.\u001b[0m\u001b[0mget_semantics\u001b[0m\u001b[1;33m(\u001b[0m\u001b[0mlocals\u001b[0m\u001b[1;33m(\u001b[0m\u001b[1;33m)\u001b[0m\u001b[1;33m)\u001b[0m\u001b[1;33m\u001b[0m\u001b[1;33m\u001b[0m\u001b[0m\n\u001b[1;32m--> 685\u001b[1;33m     p = _LinePlotter(\n\u001b[0m\u001b[0;32m    686\u001b[0m         \u001b[0mdata\u001b[0m\u001b[1;33m=\u001b[0m\u001b[0mdata\u001b[0m\u001b[1;33m,\u001b[0m \u001b[0mvariables\u001b[0m\u001b[1;33m=\u001b[0m\u001b[0mvariables\u001b[0m\u001b[1;33m,\u001b[0m\u001b[1;33m\u001b[0m\u001b[1;33m\u001b[0m\u001b[0m\n\u001b[0;32m    687\u001b[0m         \u001b[0mestimator\u001b[0m\u001b[1;33m=\u001b[0m\u001b[0mestimator\u001b[0m\u001b[1;33m,\u001b[0m \u001b[0mci\u001b[0m\u001b[1;33m=\u001b[0m\u001b[0mci\u001b[0m\u001b[1;33m,\u001b[0m \u001b[0mn_boot\u001b[0m\u001b[1;33m=\u001b[0m\u001b[0mn_boot\u001b[0m\u001b[1;33m,\u001b[0m \u001b[0mseed\u001b[0m\u001b[1;33m=\u001b[0m\u001b[0mseed\u001b[0m\u001b[1;33m,\u001b[0m\u001b[1;33m\u001b[0m\u001b[1;33m\u001b[0m\u001b[0m\n",
      "\u001b[1;32m~\\anaconda3\\lib\\site-packages\\seaborn\\relational.py\u001b[0m in \u001b[0;36m__init__\u001b[1;34m(self, data, variables, estimator, ci, n_boot, seed, sort, err_style, err_kws, legend)\u001b[0m\n\u001b[0;32m    365\u001b[0m         )\n\u001b[0;32m    366\u001b[0m \u001b[1;33m\u001b[0m\u001b[0m\n\u001b[1;32m--> 367\u001b[1;33m         \u001b[0msuper\u001b[0m\u001b[1;33m(\u001b[0m\u001b[1;33m)\u001b[0m\u001b[1;33m.\u001b[0m\u001b[0m__init__\u001b[0m\u001b[1;33m(\u001b[0m\u001b[0mdata\u001b[0m\u001b[1;33m=\u001b[0m\u001b[0mdata\u001b[0m\u001b[1;33m,\u001b[0m \u001b[0mvariables\u001b[0m\u001b[1;33m=\u001b[0m\u001b[0mvariables\u001b[0m\u001b[1;33m)\u001b[0m\u001b[1;33m\u001b[0m\u001b[1;33m\u001b[0m\u001b[0m\n\u001b[0m\u001b[0;32m    368\u001b[0m \u001b[1;33m\u001b[0m\u001b[0m\n\u001b[0;32m    369\u001b[0m         \u001b[0mself\u001b[0m\u001b[1;33m.\u001b[0m\u001b[0mestimator\u001b[0m \u001b[1;33m=\u001b[0m \u001b[0mestimator\u001b[0m\u001b[1;33m\u001b[0m\u001b[1;33m\u001b[0m\u001b[0m\n",
      "\u001b[1;32m~\\anaconda3\\lib\\site-packages\\seaborn\\_core.py\u001b[0m in \u001b[0;36m__init__\u001b[1;34m(self, data, variables)\u001b[0m\n\u001b[0;32m    602\u001b[0m     \u001b[1;32mdef\u001b[0m \u001b[0m__init__\u001b[0m\u001b[1;33m(\u001b[0m\u001b[0mself\u001b[0m\u001b[1;33m,\u001b[0m \u001b[0mdata\u001b[0m\u001b[1;33m=\u001b[0m\u001b[1;32mNone\u001b[0m\u001b[1;33m,\u001b[0m \u001b[0mvariables\u001b[0m\u001b[1;33m=\u001b[0m\u001b[1;33m{\u001b[0m\u001b[1;33m}\u001b[0m\u001b[1;33m)\u001b[0m\u001b[1;33m:\u001b[0m\u001b[1;33m\u001b[0m\u001b[1;33m\u001b[0m\u001b[0m\n\u001b[0;32m    603\u001b[0m \u001b[1;33m\u001b[0m\u001b[0m\n\u001b[1;32m--> 604\u001b[1;33m         \u001b[0mself\u001b[0m\u001b[1;33m.\u001b[0m\u001b[0massign_variables\u001b[0m\u001b[1;33m(\u001b[0m\u001b[0mdata\u001b[0m\u001b[1;33m,\u001b[0m \u001b[0mvariables\u001b[0m\u001b[1;33m)\u001b[0m\u001b[1;33m\u001b[0m\u001b[1;33m\u001b[0m\u001b[0m\n\u001b[0m\u001b[0;32m    605\u001b[0m \u001b[1;33m\u001b[0m\u001b[0m\n\u001b[0;32m    606\u001b[0m         \u001b[1;32mfor\u001b[0m \u001b[0mvar\u001b[0m\u001b[1;33m,\u001b[0m \u001b[0mcls\u001b[0m \u001b[1;32min\u001b[0m \u001b[0mself\u001b[0m\u001b[1;33m.\u001b[0m\u001b[0m_semantic_mappings\u001b[0m\u001b[1;33m.\u001b[0m\u001b[0mitems\u001b[0m\u001b[1;33m(\u001b[0m\u001b[1;33m)\u001b[0m\u001b[1;33m:\u001b[0m\u001b[1;33m\u001b[0m\u001b[1;33m\u001b[0m\u001b[0m\n",
      "\u001b[1;32m~\\anaconda3\\lib\\site-packages\\seaborn\\_core.py\u001b[0m in \u001b[0;36massign_variables\u001b[1;34m(self, data, variables)\u001b[0m\n\u001b[0;32m    665\u001b[0m         \u001b[1;32melse\u001b[0m\u001b[1;33m:\u001b[0m\u001b[1;33m\u001b[0m\u001b[1;33m\u001b[0m\u001b[0m\n\u001b[0;32m    666\u001b[0m             \u001b[0mself\u001b[0m\u001b[1;33m.\u001b[0m\u001b[0minput_format\u001b[0m \u001b[1;33m=\u001b[0m \u001b[1;34m\"long\"\u001b[0m\u001b[1;33m\u001b[0m\u001b[1;33m\u001b[0m\u001b[0m\n\u001b[1;32m--> 667\u001b[1;33m             plot_data, variables = self._assign_variables_longform(\n\u001b[0m\u001b[0;32m    668\u001b[0m                 \u001b[0mdata\u001b[0m\u001b[1;33m,\u001b[0m \u001b[1;33m**\u001b[0m\u001b[0mvariables\u001b[0m\u001b[1;33m,\u001b[0m\u001b[1;33m\u001b[0m\u001b[1;33m\u001b[0m\u001b[0m\n\u001b[0;32m    669\u001b[0m             )\n",
      "\u001b[1;32m~\\anaconda3\\lib\\site-packages\\seaborn\\_core.py\u001b[0m in \u001b[0;36m_assign_variables_longform\u001b[1;34m(self, data, **kwargs)\u001b[0m\n\u001b[0;32m    900\u001b[0m \u001b[1;33m\u001b[0m\u001b[0m\n\u001b[0;32m    901\u001b[0m                 \u001b[0merr\u001b[0m \u001b[1;33m=\u001b[0m \u001b[1;34mf\"Could not interpret value `{val}` for parameter `{key}`\"\u001b[0m\u001b[1;33m\u001b[0m\u001b[1;33m\u001b[0m\u001b[0m\n\u001b[1;32m--> 902\u001b[1;33m                 \u001b[1;32mraise\u001b[0m \u001b[0mValueError\u001b[0m\u001b[1;33m(\u001b[0m\u001b[0merr\u001b[0m\u001b[1;33m)\u001b[0m\u001b[1;33m\u001b[0m\u001b[1;33m\u001b[0m\u001b[0m\n\u001b[0m\u001b[0;32m    903\u001b[0m \u001b[1;33m\u001b[0m\u001b[0m\n\u001b[0;32m    904\u001b[0m             \u001b[1;32melse\u001b[0m\u001b[1;33m:\u001b[0m\u001b[1;33m\u001b[0m\u001b[1;33m\u001b[0m\u001b[0m\n",
      "\u001b[1;31mValueError\u001b[0m: Could not interpret value `Total Reward` for parameter `y`"
     ]
    },
    {
     "data": {
      "image/png": "[encoded data removed]",
      "text/plain": [
       "<Figure size 432x360 with 1 Axes>"
      ]
     },
     "metadata": {
      "needs_background": "light"
     },
     "output_type": "display_data"
    }
   ],
   "source": [
    "#sigma = 1\n",
    "fig_dims = (6, 5)\n",
    "fig, ax = plt.subplots(figsize=fig_dims)\n",
    "sns.lineplot(x = \"Episode\", y = \"Total Reward\",hue='type', data = rewards_df, ax = ax)\n",
    "ax.get_legend().set_title(title = '')\n",
    "plt.show()"
   ]
  },
  {
   "cell_type": "code",
   "execution_count": 479,
   "id": "7729875d",
   "metadata": {
    "ExecuteTime": {
     "end_time": "2021-06-08T11:11:20.193405Z",
     "start_time": "2021-06-08T11:10:30.305155Z"
    }
   },
   "outputs": [
    {
     "data": {
      "image/png": "[encoded data removed]",
      "text/plain": [
       "<Figure size 432x360 with 1 Axes>"
      ]
     },
     "metadata": {},
     "output_type": "display_data"
    }
   ],
   "source": [
    "#sigma = 5\n",
    "fig_dims = (6, 5)\n",
    "fig, ax = plt.subplots(figsize=fig_dims)\n",
    "sns.lineplot(x = \"Episode\", y = \"Total Reward\",hue='type', data = rewards_df, ax = ax, ci = 99)\n",
    "ax.get_legend().set_title(title = '')\n",
    "plt.show()"
   ]
  },
  {
   "cell_type": "code",
   "execution_count": null,
   "id": "1475a3d0",
   "metadata": {
    "ExecuteTime": {
     "start_time": "2021-07-17T11:04:18.637Z"
    }
   },
   "outputs": [],
   "source": [
    "#sigma = 10\n",
    "sns.color_palette(\"Paired\")\n",
    "sns.set_style(\"darkgrid\")\n",
    "fig_dims = (6, 5)\n",
    "fig, ax = plt.subplots(figsize=fig_dims)\n",
    "sns.lineplot(x = \"Episode\", y = \"Average Reward\",hue='type', data = rewards_df, ax = ax, hue_order=['MADDPG', 'hard MADDPG', 'soft MADDPG'])\n",
    "ax.get_legend().set_title(title = '')\n",
    "plt.savefig('rewards.pdf')\n",
    "plt.show()"
   ]
  },
  {
   "cell_type": "code",
   "execution_count": 544,
   "id": "b4ce5766",
   "metadata": {
    "ExecuteTime": {
     "end_time": "2021-06-10T07:19:20.332741Z",
     "start_time": "2021-06-10T07:19:20.321760Z"
    }
   },
   "outputs": [
    {
     "data": {
      "text/html": [
       "<div>\n",
       "<style scoped>\n",
       "    .dataframe tbody tr th:only-of-type {\n",
       "        vertical-align: middle;\n",
       "    }\n",
       "\n",
       "    .dataframe tbody tr th {\n",
       "        vertical-align: top;\n",
       "    }\n",
       "\n",
       "    .dataframe thead th {\n",
       "        text-align: right;\n",
       "    }\n",
       "</style>\n",
       "<table border=\"1\" class=\"dataframe\">\n",
       "  <thead>\n",
       "    <tr style=\"text-align: right;\">\n",
       "      <th></th>\n",
       "      <th>type</th>\n",
       "      <th>seed</th>\n",
       "      <th>Total Reward</th>\n",
       "      <th>Episode</th>\n",
       "    </tr>\n",
       "  </thead>\n",
       "  <tbody>\n",
       "    <tr>\n",
       "      <th>0</th>\n",
       "      <td>soft MADDPG</td>\n",
       "      <td>6</td>\n",
       "      <td>-646.101478</td>\n",
       "      <td>0</td>\n",
       "    </tr>\n",
       "    <tr>\n",
       "      <th>1</th>\n",
       "      <td>soft MADDPG</td>\n",
       "      <td>6</td>\n",
       "      <td>-637.648927</td>\n",
       "      <td>10</td>\n",
       "    </tr>\n",
       "    <tr>\n",
       "      <th>2</th>\n",
       "      <td>soft MADDPG</td>\n",
       "      <td>6</td>\n",
       "      <td>-621.244227</td>\n",
       "      <td>20</td>\n",
       "    </tr>\n",
       "    <tr>\n",
       "      <th>3</th>\n",
       "      <td>soft MADDPG</td>\n",
       "      <td>6</td>\n",
       "      <td>-611.094457</td>\n",
       "      <td>30</td>\n",
       "    </tr>\n",
       "    <tr>\n",
       "      <th>4</th>\n",
       "      <td>soft MADDPG</td>\n",
       "      <td>6</td>\n",
       "      <td>-612.128745</td>\n",
       "      <td>40</td>\n",
       "    </tr>\n",
       "    <tr>\n",
       "      <th>...</th>\n",
       "      <td>...</td>\n",
       "      <td>...</td>\n",
       "      <td>...</td>\n",
       "      <td>...</td>\n",
       "    </tr>\n",
       "    <tr>\n",
       "      <th>3195</th>\n",
       "      <td>MADDPG hard</td>\n",
       "      <td>6</td>\n",
       "      <td>-82.373989</td>\n",
       "      <td>7950</td>\n",
       "    </tr>\n",
       "    <tr>\n",
       "      <th>3196</th>\n",
       "      <td>MADDPG hard</td>\n",
       "      <td>6</td>\n",
       "      <td>-80.913335</td>\n",
       "      <td>7960</td>\n",
       "    </tr>\n",
       "    <tr>\n",
       "      <th>3197</th>\n",
       "      <td>MADDPG hard</td>\n",
       "      <td>6</td>\n",
       "      <td>-81.293354</td>\n",
       "      <td>7970</td>\n",
       "    </tr>\n",
       "    <tr>\n",
       "      <th>3198</th>\n",
       "      <td>MADDPG hard</td>\n",
       "      <td>6</td>\n",
       "      <td>-83.236329</td>\n",
       "      <td>7980</td>\n",
       "    </tr>\n",
       "    <tr>\n",
       "      <th>3199</th>\n",
       "      <td>MADDPG hard</td>\n",
       "      <td>6</td>\n",
       "      <td>-89.354293</td>\n",
       "      <td>7990</td>\n",
       "    </tr>\n",
       "  </tbody>\n",
       "</table>\n",
       "<p>3200 rows × 4 columns</p>\n",
       "</div>"
      ],
      "text/plain": [
       "             type  seed  Total Reward  Episode\n",
       "0     soft MADDPG     6   -646.101478        0\n",
       "1     soft MADDPG     6   -637.648927       10\n",
       "2     soft MADDPG     6   -621.244227       20\n",
       "3     soft MADDPG     6   -611.094457       30\n",
       "4     soft MADDPG     6   -612.128745       40\n",
       "...           ...   ...           ...      ...\n",
       "3195  MADDPG hard     6    -82.373989     7950\n",
       "3196  MADDPG hard     6    -80.913335     7960\n",
       "3197  MADDPG hard     6    -81.293354     7970\n",
       "3198  MADDPG hard     6    -83.236329     7980\n",
       "3199  MADDPG hard     6    -89.354293     7990\n",
       "\n",
       "[3200 rows x 4 columns]"
      ]
     },
     "execution_count": 544,
     "metadata": {},
     "output_type": "execute_result"
    }
   ],
   "source": [
    "rewards_df"
   ]
  },
  {
   "cell_type": "code",
   "execution_count": 550,
   "id": "97c8279c",
   "metadata": {
    "ExecuteTime": {
     "end_time": "2021-06-10T10:11:10.928848Z",
     "start_time": "2021-06-10T10:11:10.539643Z"
    }
   },
   "outputs": [
    {
     "data": {
      "image/png": "[encoded data removed]",
      "text/plain": [
       "<Figure size 432x360 with 1 Axes>"
      ]
     },
     "metadata": {},
     "output_type": "display_data"
    }
   ],
   "source": [
    "# sigma = 10\n",
    "fig_dims = (6, 5)\n",
    "fig, ax = plt.subplots(figsize=fig_dims)\n",
    "sns.lineplot(x = \"Episode\", y = \"Total Reward\",hue='type', data = rewards_df, ax = ax )\n",
    "ax.get_legend().set_title(title = '')\n",
    "plt.show()"
   ]
  },
  {
   "cell_type": "markdown",
   "id": "f071ea96",
   "metadata": {},
   "source": [
    "### Plot for collisions:"
   ]
  },
  {
   "cell_type": "markdown",
   "id": "66be34b1",
   "metadata": {},
   "source": [
    "### Plot showing all 4 different procedures used."
   ]
  },
  {
   "cell_type": "code",
   "execution_count": 17,
   "id": "74141e24",
   "metadata": {
    "ExecuteTime": {
     "end_time": "2021-07-17T10:52:11.110518Z",
     "start_time": "2021-07-17T10:45:11.927164Z"
    }
   },
   "outputs": [
    {
     "data": {
      "image/png": "[encoded data removed]",
      "text/plain": [
       "<Figure size 504x432 with 1 Axes>"
      ]
     },
     "metadata": {
      "needs_background": "light"
     },
     "output_type": "display_data"
    }
   ],
   "source": [
    "fig_dims = (7,6)\n",
    "sns.color_palette(\"Paired\")\n",
    "fig, ax = plt.subplots(figsize=fig_dims)\n",
    "figure = sns.lineplot(x = \"Episode\", y = \"Total Collisions\",hue='Type', data = collisions_df, ax= ax, hue_order=['MADDPG', 'hard MADDPG', 'soft MADDPG'])\n",
    "#handles, labels = figure.get_legend_handles_labels()\n",
    "#figure.legend(handles=handles[1:])\n",
    "#figure.legend(handles=handles[1:], labels=labels[0:]) #to remove type from the legend\n",
    "ax.get_legend().set_title(title = '')\n",
    "plt.savefig('collisions.pdf')\n",
    "plt.show()"
   ]
  },
  {
   "cell_type": "markdown",
   "id": "034302ed",
   "metadata": {},
   "source": [
    "### Plot comparing only the soft constraint procedures."
   ]
  },
  {
   "cell_type": "code",
   "execution_count": 19,
   "id": "9cd5b96f",
   "metadata": {
    "ExecuteTime": {
     "end_time": "2021-07-17T11:00:49.100818Z",
     "start_time": "2021-07-17T11:00:49.071668Z"
    }
   },
   "outputs": [],
   "source": [
    "collisions_soft_df=collisions_df[(collisions_df['Type']!= 'MADDPG') & (collisions_df['Type']!= 'hard MADDPG')]"
   ]
  },
  {
   "cell_type": "code",
   "execution_count": 542,
   "id": "d0d2d1e6",
   "metadata": {
    "ExecuteTime": {
     "end_time": "2021-06-10T07:15:23.413052Z",
     "start_time": "2021-06-10T07:15:22.497314Z"
    }
   },
   "outputs": [
    {
     "data": {
      "image/png": "[encoded data removed]",
      "text/plain": [
       "<Figure size 432x360 with 1 Axes>"
      ]
     },
     "metadata": {},
     "output_type": "display_data"
    }
   ],
   "source": [
    "fig_dims = (6, 5)\n",
    "fig, ax = plt.subplots(figsize=fig_dims)\n",
    "figure3 = sns.lineplot(x = \"Episode\", y = \"Total Collisions\",hue='Type',palette = 'bright', data = collisions_soft_df, ax = ax)\n",
    "#handles, labels = figure3.get_legend_handles_labels()\n",
    "#figure3.legend(handles=handles[1:], labels=labels[1:])\n",
    "ax.get_legend().set_title(title = '')\n",
    "#figure3.savefig(\"collisions_soft.pdf\")\n",
    "plt.show()"
   ]
  },
  {
   "cell_type": "markdown",
   "id": "ba366236",
   "metadata": {},
   "source": [
    "### Create a barplot with average collisions per episode"
   ]
  },
  {
   "cell_type": "markdown",
   "id": "2ccc65f3",
   "metadata": {},
   "source": [
    "### Return the cumsum to original observations:"
   ]
  },
  {
   "cell_type": "code",
   "execution_count": 584,
   "id": "71f0858d",
   "metadata": {
    "ExecuteTime": {
     "end_time": "2021-06-10T12:55:28.305366Z",
     "start_time": "2021-06-10T12:55:28.287873Z"
    }
   },
   "outputs": [],
   "source": [
    "def return_obs(df,seed):\n",
    "    col = df[df['Seed']==seed]['Total Collisions'].values\n",
    "    col_shifted= np.insert(np.delete(col, -1), 0, 0)\n",
    "    return list(col-col_shifted)"
   ]
  },
  {
   "cell_type": "code",
   "execution_count": 585,
   "id": "02dbe2c3",
   "metadata": {
    "ExecuteTime": {
     "end_time": "2021-06-10T12:55:30.268279Z",
     "start_time": "2021-06-10T12:55:30.251514Z"
    }
   },
   "outputs": [
    {
     "data": {
      "text/html": [
       "<div>\n",
       "<style scoped>\n",
       "    .dataframe tbody tr th:only-of-type {\n",
       "        vertical-align: middle;\n",
       "    }\n",
       "\n",
       "    .dataframe tbody tr th {\n",
       "        vertical-align: top;\n",
       "    }\n",
       "\n",
       "    .dataframe thead th {\n",
       "        text-align: right;\n",
       "    }\n",
       "</style>\n",
       "<table border=\"1\" class=\"dataframe\">\n",
       "  <thead>\n",
       "    <tr style=\"text-align: right;\">\n",
       "      <th></th>\n",
       "      <th>Type</th>\n",
       "      <th>Seed</th>\n",
       "      <th>Total Collisions</th>\n",
       "      <th>Episode</th>\n",
       "    </tr>\n",
       "  </thead>\n",
       "  <tbody>\n",
       "    <tr>\n",
       "      <th>0</th>\n",
       "      <td>soft MADDPG</td>\n",
       "      <td>5</td>\n",
       "      <td>0</td>\n",
       "      <td>0</td>\n",
       "    </tr>\n",
       "    <tr>\n",
       "      <th>1</th>\n",
       "      <td>soft MADDPG</td>\n",
       "      <td>5</td>\n",
       "      <td>0</td>\n",
       "      <td>1</td>\n",
       "    </tr>\n",
       "    <tr>\n",
       "      <th>2</th>\n",
       "      <td>soft MADDPG</td>\n",
       "      <td>5</td>\n",
       "      <td>0</td>\n",
       "      <td>2</td>\n",
       "    </tr>\n",
       "    <tr>\n",
       "      <th>3</th>\n",
       "      <td>soft MADDPG</td>\n",
       "      <td>5</td>\n",
       "      <td>0</td>\n",
       "      <td>3</td>\n",
       "    </tr>\n",
       "    <tr>\n",
       "      <th>4</th>\n",
       "      <td>soft MADDPG</td>\n",
       "      <td>5</td>\n",
       "      <td>1</td>\n",
       "      <td>4</td>\n",
       "    </tr>\n",
       "    <tr>\n",
       "      <th>...</th>\n",
       "      <td>...</td>\n",
       "      <td>...</td>\n",
       "      <td>...</td>\n",
       "      <td>...</td>\n",
       "    </tr>\n",
       "    <tr>\n",
       "      <th>263995</th>\n",
       "      <td>hard MADDPG</td>\n",
       "      <td>15</td>\n",
       "      <td>69475</td>\n",
       "      <td>7995</td>\n",
       "    </tr>\n",
       "    <tr>\n",
       "      <th>263996</th>\n",
       "      <td>hard MADDPG</td>\n",
       "      <td>15</td>\n",
       "      <td>69475</td>\n",
       "      <td>7996</td>\n",
       "    </tr>\n",
       "    <tr>\n",
       "      <th>263997</th>\n",
       "      <td>hard MADDPG</td>\n",
       "      <td>15</td>\n",
       "      <td>69475</td>\n",
       "      <td>7997</td>\n",
       "    </tr>\n",
       "    <tr>\n",
       "      <th>263998</th>\n",
       "      <td>hard MADDPG</td>\n",
       "      <td>15</td>\n",
       "      <td>69475</td>\n",
       "      <td>7998</td>\n",
       "    </tr>\n",
       "    <tr>\n",
       "      <th>263999</th>\n",
       "      <td>hard MADDPG</td>\n",
       "      <td>15</td>\n",
       "      <td>69475</td>\n",
       "      <td>7999</td>\n",
       "    </tr>\n",
       "  </tbody>\n",
       "</table>\n",
       "<p>264000 rows × 4 columns</p>\n",
       "</div>"
      ],
      "text/plain": [
       "               Type  Seed  Total Collisions  Episode\n",
       "0       soft MADDPG     5                 0        0\n",
       "1       soft MADDPG     5                 0        1\n",
       "2       soft MADDPG     5                 0        2\n",
       "3       soft MADDPG     5                 0        3\n",
       "4       soft MADDPG     5                 1        4\n",
       "...             ...   ...               ...      ...\n",
       "263995  hard MADDPG    15             69475     7995\n",
       "263996  hard MADDPG    15             69475     7996\n",
       "263997  hard MADDPG    15             69475     7997\n",
       "263998  hard MADDPG    15             69475     7998\n",
       "263999  hard MADDPG    15             69475     7999\n",
       "\n",
       "[264000 rows x 4 columns]"
      ]
     },
     "execution_count": 585,
     "metadata": {},
     "output_type": "execute_result"
    }
   ],
   "source": [
    "collisions_df"
   ]
  },
  {
   "cell_type": "code",
   "execution_count": 586,
   "id": "a405ea26",
   "metadata": {
    "ExecuteTime": {
     "end_time": "2021-06-10T12:55:45.568407Z",
     "start_time": "2021-06-10T12:55:45.458393Z"
    }
   },
   "outputs": [],
   "source": [
    "observed_col=[]\n",
    "for alg in ['soft MADDPG','MADDPG','hard MADDPG']:\n",
    "    df = collisions_df[collisions_df['Type']== alg]\n",
    "    for seed in seed_range:\n",
    "        observed_col.append(return_obs(df=df,seed=seed))         "
   ]
  },
  {
   "cell_type": "code",
   "execution_count": 587,
   "id": "0dc72768",
   "metadata": {
    "ExecuteTime": {
     "end_time": "2021-06-10T12:55:48.258717Z",
     "start_time": "2021-06-10T12:55:48.233133Z"
    }
   },
   "outputs": [],
   "source": [
    "observed_col_list = [item for sublist in observed_col for item in sublist]"
   ]
  },
  {
   "cell_type": "code",
   "execution_count": 588,
   "id": "cccfd4f8",
   "metadata": {
    "ExecuteTime": {
     "end_time": "2021-06-10T12:55:50.625310Z",
     "start_time": "2021-06-10T12:55:50.547814Z"
    }
   },
   "outputs": [],
   "source": [
    "collisions_df['Observed Collisions per Episode']=observed_col_list"
   ]
  },
  {
   "cell_type": "code",
   "execution_count": 593,
   "id": "31d8ea39",
   "metadata": {
    "ExecuteTime": {
     "end_time": "2021-06-10T13:08:22.517286Z",
     "start_time": "2021-06-10T13:08:22.490715Z"
    }
   },
   "outputs": [],
   "source": [
    "collisions_soft_df=collisions_df[(collisions_df['Type']== 'soft MADDPG')] \n",
    "#run again to have the observation column "
   ]
  },
  {
   "cell_type": "markdown",
   "id": "73b11c42",
   "metadata": {},
   "source": [
    "### Barplot for the mean of collisions per episode only for the soft procedures"
   ]
  },
  {
   "cell_type": "code",
   "execution_count": 594,
   "id": "354603d8",
   "metadata": {
    "ExecuteTime": {
     "end_time": "2021-06-10T13:08:25.727339Z",
     "start_time": "2021-06-10T13:08:24.921108Z"
    }
   },
   "outputs": [
    {
     "data": {
      "text/plain": [
       "<AxesSubplot:xlabel='Type', ylabel='Observed Collisions per Episode'>"
      ]
     },
     "execution_count": 594,
     "metadata": {},
     "output_type": "execute_result"
    },
    {
     "data": {
      "image/png": "[encoded data removed]",
      "text/plain": [
       "<Figure size 720x576 with 1 Axes>"
      ]
     },
     "metadata": {},
     "output_type": "display_data"
    }
   ],
   "source": [
    "fig_dims = (10, 8)\n",
    "fig, ax = plt.subplots(figsize=fig_dims)\n",
    "sns.set_theme(palette= 'bright')\n",
    "sns.barplot(x='Type', y= 'Observed Collisions per Episode', data = collisions_soft_df , capsize=.2, ax=ax)"
   ]
  },
  {
   "cell_type": "markdown",
   "id": "e6a4a096",
   "metadata": {},
   "source": [
    "### Barplot for median collisions per episode for all 4 algorithms"
   ]
  },
  {
   "cell_type": "code",
   "execution_count": 428,
   "id": "9c455409",
   "metadata": {
    "ExecuteTime": {
     "end_time": "2021-06-08T01:29:39.540092Z",
     "start_time": "2021-06-08T01:29:35.414353Z"
    }
   },
   "outputs": [
    {
     "data": {
      "text/plain": [
       "<AxesSubplot:xlabel='Type', ylabel='Observed Collisions per Episode'>"
      ]
     },
     "execution_count": 428,
     "metadata": {},
     "output_type": "execute_result"
    },
    {
     "data": {
      "image/png": "[encoded data removed]",
      "text/plain": [
       "<Figure size 720x576 with 1 Axes>"
      ]
     },
     "metadata": {},
     "output_type": "display_data"
    }
   ],
   "source": [
    "from numpy import median\n",
    "#sns.set_theme(style=\"whitegrid\")\n",
    "fig_dims = (10, 8)\n",
    "fig, ax = plt.subplots(figsize=fig_dims)\n",
    "sns.set_theme(palette= 'bright')\n",
    "sns.barplot(x='Type', y= 'Observed Collisions per Episode', data = collisions_df, ax = ax, estimator=median, order=[\"MADDPG\", \"hard MADDPG\", 'soft MADDPG', 'soft MADDPG+reward'])"
   ]
  },
  {
   "cell_type": "markdown",
   "id": "419efbb5",
   "metadata": {},
   "source": [
    "### Barplot for average collisions per episode for all 4 algorithms (now used the mean instead of median)"
   ]
  },
  {
   "cell_type": "code",
   "execution_count": 590,
   "id": "0f2b3f64",
   "metadata": {
    "ExecuteTime": {
     "end_time": "2021-06-10T12:57:33.906697Z",
     "start_time": "2021-06-10T12:57:31.711291Z"
    }
   },
   "outputs": [
    {
     "data": {
      "image/png": "[encoded data removed]",
      "text/plain": [
       "<Figure size 360x288 with 1 Axes>"
      ]
     },
     "metadata": {},
     "output_type": "display_data"
    }
   ],
   "source": [
    "#sns.set_theme(style=\"whitegrid\")\n",
    "fig_dims = (5, 4)\n",
    "sns.color_palette(\"Paired\")\n",
    "fig, ax = plt.subplots(figsize=fig_dims)\n",
    "#sns.set_theme(palette= 'bright')\n",
    "sns.barplot(x='Type', y= 'Observed Collisions per Episode', data = collisions_df, ax=ax, order=[\"MADDPG\", \"hard MADDPG\", 'soft MADDPG'])\n",
    "plt.savefig('collisions_boxplot.pdf')\n",
    "plt.show()"
   ]
  },
  {
   "cell_type": "code",
   "execution_count": 660,
   "id": "1e5120ae",
   "metadata": {
    "ExecuteTime": {
     "end_time": "2021-06-11T10:30:22.052667Z",
     "start_time": "2021-06-11T10:30:21.840111Z"
    }
   },
   "outputs": [],
   "source": [
    "#out of 8000 how many episodes had zero collisions\n",
    "zeroes=[]\n",
    "for seed in seed_range:\n",
    "    col =collisions_df[(collisions_df['Type']=='soft MADDPG') & (collisions_df['Seed']==seed) ]['Observed Collisions per Episode'].values\n",
    "    zeroes.append(len((np.where(col==0)[0])))"
   ]
  },
  {
   "cell_type": "code",
   "execution_count": 668,
   "id": "74f9fadb",
   "metadata": {
    "ExecuteTime": {
     "end_time": "2021-06-11T10:33:01.155313Z",
     "start_time": "2021-06-11T10:33:01.147284Z"
    }
   },
   "outputs": [],
   "source": [
    "zeroes_perc=[1-z/8000 for z in zeroes]"
   ]
  },
  {
   "cell_type": "code",
   "execution_count": 669,
   "id": "bc127859",
   "metadata": {
    "ExecuteTime": {
     "end_time": "2021-06-11T10:33:03.798984Z",
     "start_time": "2021-06-11T10:33:03.779786Z"
    }
   },
   "outputs": [
    {
     "data": {
      "text/plain": [
       "[0.13624999999999998,\n",
       " 0.13137500000000002,\n",
       " 0.141625,\n",
       " 0.12687499999999996,\n",
       " 0.13312500000000005,\n",
       " 0.13,\n",
       " 0.13575000000000004,\n",
       " 0.135,\n",
       " 0.135,\n",
       " 0.13637500000000002,\n",
       " 0.14200000000000002]"
      ]
     },
     "execution_count": 669,
     "metadata": {},
     "output_type": "execute_result"
    }
   ],
   "source": [
    "zeroes_perc"
   ]
  },
  {
   "cell_type": "code",
   "execution_count": 670,
   "id": "ca427235",
   "metadata": {
    "ExecuteTime": {
     "end_time": "2021-06-11T10:33:08.228220Z",
     "start_time": "2021-06-11T10:33:08.216169Z"
    }
   },
   "outputs": [
    {
     "data": {
      "text/plain": [
       "(0.13485227272727274, 0.13181544224150057, 0.1378891032130449)"
      ]
     },
     "execution_count": 670,
     "metadata": {},
     "output_type": "execute_result"
    }
   ],
   "source": [
    "mean_confidence_interval(zeroes_perc)"
   ]
  },
  {
   "cell_type": "markdown",
   "id": "47fc249c",
   "metadata": {},
   "source": [
    "### Also try with boxplot: "
   ]
  },
  {
   "cell_type": "markdown",
   "id": "c35a2787",
   "metadata": {},
   "source": [
    "### Results after testing "
   ]
  },
  {
   "cell_type": "code",
   "execution_count": 595,
   "id": "64ef988e",
   "metadata": {
    "ExecuteTime": {
     "end_time": "2021-06-10T13:11:01.751901Z",
     "start_time": "2021-06-10T13:11:01.625542Z"
    }
   },
   "outputs": [],
   "source": [
    "collisions_soft_test=[]\n",
    "collisions_soft_rewards_test=[]\n",
    "collisions_hard_test = []\n",
    "collisions_maddpg_test = []\n",
    "collisions_seed_test = []\n",
    "\n",
    "for seed in seed_range:\n",
    "    \n",
    "\n",
    "    # Import Results\n",
    "    #rewards:\n",
    "    #rewards_soft.append(np.load(safe_maddpg_soft +\"seed\" + str(seed) + \"/\" + 'rewards.npy')[0:N:10]) #list of arrays\n",
    "    #rewards_hard.append(np.load(safe_maddpg_hard + \"seed\" + str(seed) + \"/\"+'rewards.npy')[0:N:10])\n",
    "    #rewards_maddpg.append(np.load(maddpg_vanilla + \"seed\" + str(seed) + \"/\" + 'rewards.npy')[0:N:10])\n",
    "    #rewards_soft_rewards.append(np.load(maddpg_vanilla + \"seed\" + str(seed) + \"/\" + 'rewards.npy')[0:N:10])\n",
    "    #rewards_seed.append([seed]*len(rewards_soft[-1]))\n",
    "    \n",
    "    #collisions:\n",
    "    collisions_soft_test.append(np.load(safe_maddpg_soft + \"seed\" + str(seed) + \"/\" + 'test_collisions.npy')[0:N])\n",
    "    #collisions_soft_rewards_test.append(np.load(safe_maddpg_soft_rewards + \"seed\" + str(seed) + \"/\" + 'test_collisions.npy')[0:N])\n",
    "    collisions_hard_test.append(np.load(safe_maddpg_hard + \"seed\" + str(seed) + \"/\" + 'test_collisions.npy')[0:N])\n",
    "    collisions_maddpg_test.append(np.load(maddpg_vanilla + \"seed\" + str(seed) + \"/\" +'test_collisions.npy')[0:N])\n",
    "    collisions_seed_test.append([seed]*len(collisions_soft_test[-1]))\n",
    "    \n",
    "    \n",
    "    #infeasibilities:\n",
    "    #infeasibilities_soft.append(np.load(safe_maddpg_soft + \"seed\" + str(seed) + \"/\" +'infeasible.npy')[0:N])\n",
    "    #infeasibilities_hard.append(np.load(safe_maddpg_hard + \"seed\" + str(seed) + \"/\" +'infeasible.npy')[0:N])\n",
    "\n",
    "#episodes_list_rew=list(range(0,8000, 10))*len(rewards_soft)\n",
    "episodes_list_col_test= list(range(0,100))*len(collisions_soft_test)"
   ]
  },
  {
   "cell_type": "code",
   "execution_count": 323,
   "id": "bacbe33b",
   "metadata": {
    "ExecuteTime": {
     "end_time": "2021-06-07T14:52:16.028821Z",
     "start_time": "2021-06-07T14:52:16.004154Z"
    }
   },
   "outputs": [
    {
     "data": {
      "text/plain": [
       "8000"
      ]
     },
     "execution_count": 323,
     "metadata": {},
     "output_type": "execute_result"
    }
   ],
   "source": [
    "len(collisions_soft_test[0])"
   ]
  },
  {
   "cell_type": "code",
   "execution_count": 596,
   "id": "698d6d51",
   "metadata": {
    "ExecuteTime": {
     "end_time": "2021-06-10T13:11:04.900905Z",
     "start_time": "2021-06-10T13:11:04.889027Z"
    }
   },
   "outputs": [],
   "source": [
    "collisions_soft_list_test = [item for sublist in collisions_soft_test for item in sublist]\n",
    "collisions_soft_rewards_list_test = [item for sublist in collisions_soft_rewards_test for item in sublist]\n",
    "collisions_maddpg_list_test = [item for sublist in collisions_maddpg_test for item in sublist]\n",
    "collisions_seed_list_test= [item for sublist in collisions_seed_test for item in sublist]\n",
    "collisions_hard_list_test= [item for sublist in collisions_hard_test for item in sublist]\n",
    "collisions_type_test=['soft MADDPG']*len(collisions_soft_list_test) + ['MADDPG']*len(collisions_maddpg_list_test) + ['hard MADDPG']*len(collisions_hard_list_test)"
   ]
  },
  {
   "cell_type": "code",
   "execution_count": 597,
   "id": "0a84f399",
   "metadata": {
    "ExecuteTime": {
     "end_time": "2021-06-10T13:11:07.100300Z",
     "start_time": "2021-06-10T13:11:07.085375Z"
    }
   },
   "outputs": [],
   "source": [
    "collisions_df_test=pd.DataFrame()\n",
    "collisions_df_test['Type']=collisions_type_test\n",
    "collisions_df_test['Seed']=collisions_seed_list_test*3\n",
    "collisions_df_test['Collisions per Episode']=collisions_soft_list_test + collisions_maddpg_list_test + collisions_soft_rewards_list_test+ collisions_hard_list_test\n",
    "collisions_df_test['Episode']=episodes_list_col_test*3"
   ]
  },
  {
   "cell_type": "code",
   "execution_count": 599,
   "id": "dda8b732",
   "metadata": {
    "ExecuteTime": {
     "end_time": "2021-06-10T13:11:25.532461Z",
     "start_time": "2021-06-10T13:11:25.514273Z"
    }
   },
   "outputs": [
    {
     "data": {
      "text/plain": [
       "array([0, 0, 0, ..., 0, 0, 0], dtype=int64)"
      ]
     },
     "execution_count": 599,
     "metadata": {},
     "output_type": "execute_result"
    }
   ],
   "source": [
    "collisions_df_test['Collisions per Episode'].values"
   ]
  },
  {
   "cell_type": "code",
   "execution_count": 600,
   "id": "9fc90212",
   "metadata": {
    "ExecuteTime": {
     "end_time": "2021-06-10T13:11:40.407672Z",
     "start_time": "2021-06-10T13:11:40.392255Z"
    }
   },
   "outputs": [
    {
     "data": {
      "text/plain": [
       "15252"
      ]
     },
     "execution_count": 600,
     "metadata": {},
     "output_type": "execute_result"
    }
   ],
   "source": [
    "sum(collisions_df_test[collisions_df_test['Type']=='MADDPG']['Collisions per Episode'].values)"
   ]
  },
  {
   "cell_type": "code",
   "execution_count": 601,
   "id": "9e86fb19",
   "metadata": {
    "ExecuteTime": {
     "end_time": "2021-06-10T13:11:47.971654Z",
     "start_time": "2021-06-10T13:11:47.939814Z"
    }
   },
   "outputs": [],
   "source": [
    "cumsum=[]\n",
    "for alg in ['soft MADDPG','MADDPG', 'hard MADDPG']:\n",
    "    df = collisions_df_test[collisions_df_test['Type']== alg]\n",
    "    for seed in seed_range:\n",
    "        cumsum.append(list(df[df['Seed']==seed]['Collisions per Episode'].cumsum().values))         "
   ]
  },
  {
   "cell_type": "code",
   "execution_count": 459,
   "id": "f169f6c8",
   "metadata": {
    "ExecuteTime": {
     "end_time": "2021-06-08T01:40:22.040154Z",
     "start_time": "2021-06-08T01:40:22.020530Z"
    }
   },
   "outputs": [],
   "source": [
    "#cumsum[0]"
   ]
  },
  {
   "cell_type": "code",
   "execution_count": 602,
   "id": "4e4f3781",
   "metadata": {
    "ExecuteTime": {
     "end_time": "2021-06-10T13:11:54.102343Z",
     "start_time": "2021-06-10T13:11:54.089585Z"
    }
   },
   "outputs": [],
   "source": [
    "cumsum_list = [item for sublist in cumsum for item in sublist]\n",
    "collisions_df_test['Total Collisions']= cumsum_list"
   ]
  },
  {
   "cell_type": "code",
   "execution_count": 603,
   "id": "35eff34b",
   "metadata": {
    "ExecuteTime": {
     "end_time": "2021-06-10T13:11:56.765103Z",
     "start_time": "2021-06-10T13:11:56.740081Z"
    }
   },
   "outputs": [
    {
     "data": {
      "text/html": [
       "<div>\n",
       "<style scoped>\n",
       "    .dataframe tbody tr th:only-of-type {\n",
       "        vertical-align: middle;\n",
       "    }\n",
       "\n",
       "    .dataframe tbody tr th {\n",
       "        vertical-align: top;\n",
       "    }\n",
       "\n",
       "    .dataframe thead th {\n",
       "        text-align: right;\n",
       "    }\n",
       "</style>\n",
       "<table border=\"1\" class=\"dataframe\">\n",
       "  <thead>\n",
       "    <tr style=\"text-align: right;\">\n",
       "      <th></th>\n",
       "      <th>Type</th>\n",
       "      <th>Seed</th>\n",
       "      <th>Collisions per Episode</th>\n",
       "      <th>Episode</th>\n",
       "      <th>Total Collisions</th>\n",
       "    </tr>\n",
       "  </thead>\n",
       "  <tbody>\n",
       "    <tr>\n",
       "      <th>0</th>\n",
       "      <td>soft MADDPG</td>\n",
       "      <td>5</td>\n",
       "      <td>0</td>\n",
       "      <td>0</td>\n",
       "      <td>0</td>\n",
       "    </tr>\n",
       "    <tr>\n",
       "      <th>1</th>\n",
       "      <td>soft MADDPG</td>\n",
       "      <td>5</td>\n",
       "      <td>0</td>\n",
       "      <td>1</td>\n",
       "      <td>0</td>\n",
       "    </tr>\n",
       "    <tr>\n",
       "      <th>2</th>\n",
       "      <td>soft MADDPG</td>\n",
       "      <td>5</td>\n",
       "      <td>0</td>\n",
       "      <td>2</td>\n",
       "      <td>0</td>\n",
       "    </tr>\n",
       "    <tr>\n",
       "      <th>3</th>\n",
       "      <td>soft MADDPG</td>\n",
       "      <td>5</td>\n",
       "      <td>0</td>\n",
       "      <td>3</td>\n",
       "      <td>0</td>\n",
       "    </tr>\n",
       "    <tr>\n",
       "      <th>4</th>\n",
       "      <td>soft MADDPG</td>\n",
       "      <td>5</td>\n",
       "      <td>0</td>\n",
       "      <td>4</td>\n",
       "      <td>0</td>\n",
       "    </tr>\n",
       "    <tr>\n",
       "      <th>...</th>\n",
       "      <td>...</td>\n",
       "      <td>...</td>\n",
       "      <td>...</td>\n",
       "      <td>...</td>\n",
       "      <td>...</td>\n",
       "    </tr>\n",
       "    <tr>\n",
       "      <th>3295</th>\n",
       "      <td>hard MADDPG</td>\n",
       "      <td>15</td>\n",
       "      <td>0</td>\n",
       "      <td>95</td>\n",
       "      <td>0</td>\n",
       "    </tr>\n",
       "    <tr>\n",
       "      <th>3296</th>\n",
       "      <td>hard MADDPG</td>\n",
       "      <td>15</td>\n",
       "      <td>0</td>\n",
       "      <td>96</td>\n",
       "      <td>0</td>\n",
       "    </tr>\n",
       "    <tr>\n",
       "      <th>3297</th>\n",
       "      <td>hard MADDPG</td>\n",
       "      <td>15</td>\n",
       "      <td>0</td>\n",
       "      <td>97</td>\n",
       "      <td>0</td>\n",
       "    </tr>\n",
       "    <tr>\n",
       "      <th>3298</th>\n",
       "      <td>hard MADDPG</td>\n",
       "      <td>15</td>\n",
       "      <td>0</td>\n",
       "      <td>98</td>\n",
       "      <td>0</td>\n",
       "    </tr>\n",
       "    <tr>\n",
       "      <th>3299</th>\n",
       "      <td>hard MADDPG</td>\n",
       "      <td>15</td>\n",
       "      <td>0</td>\n",
       "      <td>99</td>\n",
       "      <td>0</td>\n",
       "    </tr>\n",
       "  </tbody>\n",
       "</table>\n",
       "<p>3300 rows × 5 columns</p>\n",
       "</div>"
      ],
      "text/plain": [
       "             Type  Seed  Collisions per Episode  Episode  Total Collisions\n",
       "0     soft MADDPG     5                       0        0                 0\n",
       "1     soft MADDPG     5                       0        1                 0\n",
       "2     soft MADDPG     5                       0        2                 0\n",
       "3     soft MADDPG     5                       0        3                 0\n",
       "4     soft MADDPG     5                       0        4                 0\n",
       "...           ...   ...                     ...      ...               ...\n",
       "3295  hard MADDPG    15                       0       95                 0\n",
       "3296  hard MADDPG    15                       0       96                 0\n",
       "3297  hard MADDPG    15                       0       97                 0\n",
       "3298  hard MADDPG    15                       0       98                 0\n",
       "3299  hard MADDPG    15                       0       99                 0\n",
       "\n",
       "[3300 rows x 5 columns]"
      ]
     },
     "execution_count": 603,
     "metadata": {},
     "output_type": "execute_result"
    }
   ],
   "source": [
    "collisions_df_test"
   ]
  },
  {
   "cell_type": "code",
   "execution_count": 604,
   "id": "63dac754",
   "metadata": {
    "ExecuteTime": {
     "end_time": "2021-06-10T13:14:06.875996Z",
     "start_time": "2021-06-10T13:14:01.290489Z"
    }
   },
   "outputs": [
    {
     "data": {
      "image/png": "[encoded data removed]",
      "text/plain": [
       "<Figure size 432x360 with 1 Axes>"
      ]
     },
     "metadata": {},
     "output_type": "display_data"
    }
   ],
   "source": [
    "fig_dims = (6,5)\n",
    "sns.color_palette(\"Paired\")\n",
    "fig, ax = plt.subplots(figsize=fig_dims)\n",
    "figure = sns.lineplot(x = \"Episode\", y = \"Total Collisions\",hue='Type', data = collisions_df_test, ax= ax,hue_order=['MADDPG', 'hard MADDPG', 'soft MADDPG'])\n",
    "#handles, labels = figure.get_legend_handles_labels()\n",
    "#figure.legend(handles=handles[1:])\n",
    "#figure.legend(handles=handles[1:], labels=labels[0:]) #to remove type from the legend\n",
    "ax.get_legend().set_title(title = '')\n",
    "plt.savefig('collisions_test.pdf')\n",
    "plt.show()"
   ]
  },
  {
   "cell_type": "code",
   "execution_count": 464,
   "id": "e9eae824",
   "metadata": {
    "ExecuteTime": {
     "end_time": "2021-06-08T01:47:04.384688Z",
     "start_time": "2021-06-08T01:47:04.366103Z"
    }
   },
   "outputs": [
    {
     "data": {
      "text/html": [
       "<div>\n",
       "<style scoped>\n",
       "    .dataframe tbody tr th:only-of-type {\n",
       "        vertical-align: middle;\n",
       "    }\n",
       "\n",
       "    .dataframe tbody tr th {\n",
       "        vertical-align: top;\n",
       "    }\n",
       "\n",
       "    .dataframe thead th {\n",
       "        text-align: right;\n",
       "    }\n",
       "</style>\n",
       "<table border=\"1\" class=\"dataframe\">\n",
       "  <thead>\n",
       "    <tr style=\"text-align: right;\">\n",
       "      <th></th>\n",
       "      <th>Type</th>\n",
       "      <th>Seed</th>\n",
       "      <th>Collisions per Episode</th>\n",
       "      <th>Episode</th>\n",
       "      <th>Total Collisions</th>\n",
       "    </tr>\n",
       "  </thead>\n",
       "  <tbody>\n",
       "    <tr>\n",
       "      <th>0</th>\n",
       "      <td>soft MADDPG</td>\n",
       "      <td>5</td>\n",
       "      <td>0</td>\n",
       "      <td>0</td>\n",
       "      <td>0</td>\n",
       "    </tr>\n",
       "    <tr>\n",
       "      <th>1</th>\n",
       "      <td>soft MADDPG</td>\n",
       "      <td>5</td>\n",
       "      <td>0</td>\n",
       "      <td>1</td>\n",
       "      <td>0</td>\n",
       "    </tr>\n",
       "    <tr>\n",
       "      <th>2</th>\n",
       "      <td>soft MADDPG</td>\n",
       "      <td>5</td>\n",
       "      <td>0</td>\n",
       "      <td>2</td>\n",
       "      <td>0</td>\n",
       "    </tr>\n",
       "    <tr>\n",
       "      <th>3</th>\n",
       "      <td>soft MADDPG</td>\n",
       "      <td>5</td>\n",
       "      <td>0</td>\n",
       "      <td>3</td>\n",
       "      <td>0</td>\n",
       "    </tr>\n",
       "    <tr>\n",
       "      <th>4</th>\n",
       "      <td>soft MADDPG</td>\n",
       "      <td>5</td>\n",
       "      <td>0</td>\n",
       "      <td>4</td>\n",
       "      <td>0</td>\n",
       "    </tr>\n",
       "    <tr>\n",
       "      <th>...</th>\n",
       "      <td>...</td>\n",
       "      <td>...</td>\n",
       "      <td>...</td>\n",
       "      <td>...</td>\n",
       "      <td>...</td>\n",
       "    </tr>\n",
       "    <tr>\n",
       "      <th>4395</th>\n",
       "      <td>hard MADDPG</td>\n",
       "      <td>15</td>\n",
       "      <td>0</td>\n",
       "      <td>95</td>\n",
       "      <td>0</td>\n",
       "    </tr>\n",
       "    <tr>\n",
       "      <th>4396</th>\n",
       "      <td>hard MADDPG</td>\n",
       "      <td>15</td>\n",
       "      <td>0</td>\n",
       "      <td>96</td>\n",
       "      <td>0</td>\n",
       "    </tr>\n",
       "    <tr>\n",
       "      <th>4397</th>\n",
       "      <td>hard MADDPG</td>\n",
       "      <td>15</td>\n",
       "      <td>0</td>\n",
       "      <td>97</td>\n",
       "      <td>0</td>\n",
       "    </tr>\n",
       "    <tr>\n",
       "      <th>4398</th>\n",
       "      <td>hard MADDPG</td>\n",
       "      <td>15</td>\n",
       "      <td>0</td>\n",
       "      <td>98</td>\n",
       "      <td>0</td>\n",
       "    </tr>\n",
       "    <tr>\n",
       "      <th>4399</th>\n",
       "      <td>hard MADDPG</td>\n",
       "      <td>15</td>\n",
       "      <td>0</td>\n",
       "      <td>99</td>\n",
       "      <td>0</td>\n",
       "    </tr>\n",
       "  </tbody>\n",
       "</table>\n",
       "<p>4400 rows × 5 columns</p>\n",
       "</div>"
      ],
      "text/plain": [
       "             Type  Seed  Collisions per Episode  Episode  Total Collisions\n",
       "0     soft MADDPG     5                       0        0                 0\n",
       "1     soft MADDPG     5                       0        1                 0\n",
       "2     soft MADDPG     5                       0        2                 0\n",
       "3     soft MADDPG     5                       0        3                 0\n",
       "4     soft MADDPG     5                       0        4                 0\n",
       "...           ...   ...                     ...      ...               ...\n",
       "4395  hard MADDPG    15                       0       95                 0\n",
       "4396  hard MADDPG    15                       0       96                 0\n",
       "4397  hard MADDPG    15                       0       97                 0\n",
       "4398  hard MADDPG    15                       0       98                 0\n",
       "4399  hard MADDPG    15                       0       99                 0\n",
       "\n",
       "[4400 rows x 5 columns]"
      ]
     },
     "execution_count": 464,
     "metadata": {},
     "output_type": "execute_result"
    }
   ],
   "source": [
    "collisions_df_test"
   ]
  },
  {
   "cell_type": "code",
   "execution_count": 465,
   "id": "e5090558",
   "metadata": {
    "ExecuteTime": {
     "end_time": "2021-06-08T01:47:20.279077Z",
     "start_time": "2021-06-08T01:47:20.001890Z"
    }
   },
   "outputs": [
    {
     "data": {
      "text/plain": [
       "<AxesSubplot:xlabel='Type', ylabel='Collisions per Episode'>"
      ]
     },
     "execution_count": 465,
     "metadata": {},
     "output_type": "execute_result"
    },
    {
     "data": {
      "image/png": "[encoded data removed]",
      "text/plain": [
       "<Figure size 720x576 with 1 Axes>"
      ]
     },
     "metadata": {},
     "output_type": "display_data"
    }
   ],
   "source": [
    "fig_dims = (10, 8)\n",
    "fig, ax = plt.subplots(figsize=fig_dims)\n",
    "sns.set_theme(palette= 'bright')\n",
    "sns.barplot(x='Type', y= 'Collisions per Episode', data = collisions_df_test, ax=ax, order=[\"MADDPG\", \"hard MADDPG\", 'soft MADDPG', 'soft MADDPG+reward'])"
   ]
  },
  {
   "cell_type": "code",
   "execution_count": 633,
   "id": "26de9d86",
   "metadata": {
    "ExecuteTime": {
     "end_time": "2021-06-10T15:18:14.236948Z",
     "start_time": "2021-06-10T15:18:14.226904Z"
    }
   },
   "outputs": [
    {
     "data": {
      "text/html": [
       "<div>\n",
       "<style scoped>\n",
       "    .dataframe tbody tr th:only-of-type {\n",
       "        vertical-align: middle;\n",
       "    }\n",
       "\n",
       "    .dataframe tbody tr th {\n",
       "        vertical-align: top;\n",
       "    }\n",
       "\n",
       "    .dataframe thead th {\n",
       "        text-align: right;\n",
       "    }\n",
       "</style>\n",
       "<table border=\"1\" class=\"dataframe\">\n",
       "  <thead>\n",
       "    <tr style=\"text-align: right;\">\n",
       "      <th></th>\n",
       "      <th>Type</th>\n",
       "      <th>Seed</th>\n",
       "      <th>Collisions per Episode</th>\n",
       "      <th>Episode</th>\n",
       "      <th>Total Collisions</th>\n",
       "    </tr>\n",
       "  </thead>\n",
       "  <tbody>\n",
       "    <tr>\n",
       "      <th>0</th>\n",
       "      <td>soft MADDPG</td>\n",
       "      <td>5</td>\n",
       "      <td>0</td>\n",
       "      <td>0</td>\n",
       "      <td>0</td>\n",
       "    </tr>\n",
       "    <tr>\n",
       "      <th>1</th>\n",
       "      <td>soft MADDPG</td>\n",
       "      <td>5</td>\n",
       "      <td>0</td>\n",
       "      <td>1</td>\n",
       "      <td>0</td>\n",
       "    </tr>\n",
       "    <tr>\n",
       "      <th>2</th>\n",
       "      <td>soft MADDPG</td>\n",
       "      <td>5</td>\n",
       "      <td>0</td>\n",
       "      <td>2</td>\n",
       "      <td>0</td>\n",
       "    </tr>\n",
       "    <tr>\n",
       "      <th>3</th>\n",
       "      <td>soft MADDPG</td>\n",
       "      <td>5</td>\n",
       "      <td>0</td>\n",
       "      <td>3</td>\n",
       "      <td>0</td>\n",
       "    </tr>\n",
       "    <tr>\n",
       "      <th>4</th>\n",
       "      <td>soft MADDPG</td>\n",
       "      <td>5</td>\n",
       "      <td>0</td>\n",
       "      <td>4</td>\n",
       "      <td>0</td>\n",
       "    </tr>\n",
       "    <tr>\n",
       "      <th>...</th>\n",
       "      <td>...</td>\n",
       "      <td>...</td>\n",
       "      <td>...</td>\n",
       "      <td>...</td>\n",
       "      <td>...</td>\n",
       "    </tr>\n",
       "    <tr>\n",
       "      <th>3295</th>\n",
       "      <td>hard MADDPG</td>\n",
       "      <td>15</td>\n",
       "      <td>0</td>\n",
       "      <td>95</td>\n",
       "      <td>0</td>\n",
       "    </tr>\n",
       "    <tr>\n",
       "      <th>3296</th>\n",
       "      <td>hard MADDPG</td>\n",
       "      <td>15</td>\n",
       "      <td>0</td>\n",
       "      <td>96</td>\n",
       "      <td>0</td>\n",
       "    </tr>\n",
       "    <tr>\n",
       "      <th>3297</th>\n",
       "      <td>hard MADDPG</td>\n",
       "      <td>15</td>\n",
       "      <td>0</td>\n",
       "      <td>97</td>\n",
       "      <td>0</td>\n",
       "    </tr>\n",
       "    <tr>\n",
       "      <th>3298</th>\n",
       "      <td>hard MADDPG</td>\n",
       "      <td>15</td>\n",
       "      <td>0</td>\n",
       "      <td>98</td>\n",
       "      <td>0</td>\n",
       "    </tr>\n",
       "    <tr>\n",
       "      <th>3299</th>\n",
       "      <td>hard MADDPG</td>\n",
       "      <td>15</td>\n",
       "      <td>0</td>\n",
       "      <td>99</td>\n",
       "      <td>0</td>\n",
       "    </tr>\n",
       "  </tbody>\n",
       "</table>\n",
       "<p>3300 rows × 5 columns</p>\n",
       "</div>"
      ],
      "text/plain": [
       "             Type  Seed  Collisions per Episode  Episode  Total Collisions\n",
       "0     soft MADDPG     5                       0        0                 0\n",
       "1     soft MADDPG     5                       0        1                 0\n",
       "2     soft MADDPG     5                       0        2                 0\n",
       "3     soft MADDPG     5                       0        3                 0\n",
       "4     soft MADDPG     5                       0        4                 0\n",
       "...           ...   ...                     ...      ...               ...\n",
       "3295  hard MADDPG    15                       0       95                 0\n",
       "3296  hard MADDPG    15                       0       96                 0\n",
       "3297  hard MADDPG    15                       0       97                 0\n",
       "3298  hard MADDPG    15                       0       98                 0\n",
       "3299  hard MADDPG    15                       0       99                 0\n",
       "\n",
       "[3300 rows x 5 columns]"
      ]
     },
     "execution_count": 633,
     "metadata": {},
     "output_type": "execute_result"
    }
   ],
   "source": [
    "collisions_df_test"
   ]
  },
  {
   "cell_type": "code",
   "execution_count": 635,
   "id": "d990f938",
   "metadata": {
    "ExecuteTime": {
     "end_time": "2021-06-10T15:22:40.740240Z",
     "start_time": "2021-06-10T15:22:40.723222Z"
    }
   },
   "outputs": [],
   "source": [
    "collisions_test_vanilla = collisions_df_test[(collisions_df_test['Type']=='MADDPG') & (collisions_df_test['Episode']==99)]['Total Collisions'].values"
   ]
  },
  {
   "cell_type": "code",
   "execution_count": 636,
   "id": "a4fffab3",
   "metadata": {
    "ExecuteTime": {
     "end_time": "2021-06-10T15:22:47.793874Z",
     "start_time": "2021-06-10T15:22:47.787284Z"
    }
   },
   "outputs": [
    {
     "data": {
      "text/plain": [
       "(1386.5454545454545, 1263.987003906806, 1509.103905184103)"
      ]
     },
     "execution_count": 636,
     "metadata": {},
     "output_type": "execute_result"
    }
   ],
   "source": [
    "mean_confidence_interval(collisions_test_vanilla)"
   ]
  },
  {
   "cell_type": "code",
   "execution_count": 672,
   "id": "f34af1c2",
   "metadata": {
    "ExecuteTime": {
     "end_time": "2021-06-11T10:43:44.949606Z",
     "start_time": "2021-06-11T10:43:44.926376Z"
    }
   },
   "outputs": [],
   "source": [
    "infeas_num=[]\n",
    "for i in range(11):\n",
    "    infeas_num.append(len(np.where(infeasibilities_hard[i]!=0)[0]))"
   ]
  },
  {
   "cell_type": "code",
   "execution_count": 675,
   "id": "fa937cd2",
   "metadata": {
    "ExecuteTime": {
     "end_time": "2021-06-11T10:47:05.116549Z",
     "start_time": "2021-06-11T10:47:05.108919Z"
    }
   },
   "outputs": [],
   "source": [
    "infeas_num_perc=[z/8000 for z in infeas_num]"
   ]
  },
  {
   "cell_type": "code",
   "execution_count": 676,
   "id": "28fcddfc",
   "metadata": {
    "ExecuteTime": {
     "end_time": "2021-06-11T10:47:19.102168Z",
     "start_time": "2021-06-11T10:47:19.084511Z"
    }
   },
   "outputs": [
    {
     "data": {
      "text/plain": [
       "[0.3895,\n",
       " 0.387,\n",
       " 0.391125,\n",
       " 0.3865,\n",
       " 0.38925,\n",
       " 0.39425,\n",
       " 0.399875,\n",
       " 0.39175,\n",
       " 0.39575,\n",
       " 0.392375,\n",
       " 0.39875]"
      ]
     },
     "execution_count": 676,
     "metadata": {},
     "output_type": "execute_result"
    }
   ],
   "source": [
    "infeas_num_perc"
   ]
  },
  {
   "cell_type": "code",
   "execution_count": 674,
   "id": "d3679e33",
   "metadata": {
    "ExecuteTime": {
     "end_time": "2021-06-11T10:45:02.465585Z",
     "start_time": "2021-06-11T10:45:02.459984Z"
    }
   },
   "outputs": [
    {
     "data": {
      "text/plain": [
       "(3139.0, 3115.255561900349, 3162.744438099651)"
      ]
     },
     "execution_count": 674,
     "metadata": {},
     "output_type": "execute_result"
    }
   ],
   "source": [
    "mean_confidence_interval(infeas_num)"
   ]
  },
  {
   "cell_type": "code",
   "execution_count": 677,
   "id": "d7495e03",
   "metadata": {
    "ExecuteTime": {
     "end_time": "2021-06-11T10:47:35.109817Z",
     "start_time": "2021-06-11T10:47:35.094546Z"
    }
   },
   "outputs": [
    {
     "data": {
      "text/plain": [
       "(0.392375, 0.3894069452375436, 0.39534305476245635)"
      ]
     },
     "execution_count": 677,
     "metadata": {},
     "output_type": "execute_result"
    }
   ],
   "source": [
    "mean_confidence_interval(infeas_num_perc)"
   ]
  }
 ],
 "metadata": {
  "kernelspec": {
   "display_name": "Python 3",
   "language": "python",
   "name": "python3"
  },
  "language_info": {
   "codemirror_mode": {
    "name": "ipython",
    "version": 3
   },
   "file_extension": ".py",
   "mimetype": "text/x-python",
   "name": "python",
   "nbconvert_exporter": "python",
   "pygments_lexer": "ipython3",
   "version": "3.8.3"
  }
 },
 "nbformat": 4,
 "nbformat_minor": 5
}
