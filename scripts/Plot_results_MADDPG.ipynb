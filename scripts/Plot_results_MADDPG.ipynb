{
 "cells": [
  {
   "cell_type": "markdown",
   "id": "99824fee",
   "metadata": {},
   "source": [
    "### Create plots for the results\n",
    "Use seaborn lineplot \n",
    "https://stackabuse.com/seaborn-line-plot-tutorial-and-examples"
   ]
  },
  {
   "cell_type": "code",
   "execution_count": 1,
   "id": "58011b4a",
   "metadata": {
    "ExecuteTime": {
     "end_time": "2021-06-06T09:44:06.103546Z",
     "start_time": "2021-06-06T09:44:03.462108Z"
    }
   },
   "outputs": [],
   "source": [
    "import numpy as np\n",
    "import pandas as pd\n",
    "import matplotlib.pyplot as plt\n",
    "import seaborn as sns\n",
    "import os"
   ]
  },
  {
   "cell_type": "code",
   "execution_count": 85,
   "id": "511d069f",
   "metadata": {
    "ExecuteTime": {
     "end_time": "2021-06-06T10:51:51.387461Z",
     "start_time": "2021-06-06T10:51:51.377811Z"
    }
   },
   "outputs": [],
   "source": [
    "#abs_path   = os.path.dirname(os.path.abspath(__file__)) + '/'"
   ]
  },
  {
   "cell_type": "code",
   "execution_count": 86,
   "id": "acd71fab",
   "metadata": {
    "ExecuteTime": {
     "end_time": "2021-06-06T11:28:38.878451Z",
     "start_time": "2021-06-06T11:28:38.864913Z"
    }
   },
   "outputs": [],
   "source": [
    "safe_maddpg_soft = '../data/agents/SafeMADDPG_soft/'\n",
    "safe_maddpg_hard = '../data/agents/SafeMADDPG_hard/'\n",
    "maddpg_vanilla   = '../data/agents/MADDPG/'\n",
    "safe_maddpg_soft_rewards = '../data/agents/SafeMADDPG_soft_rewards/'"
   ]
  },
  {
   "cell_type": "code",
   "execution_count": 12,
   "id": "7b77215f",
   "metadata": {
    "ExecuteTime": {
     "end_time": "2021-06-06T09:52:23.494006Z",
     "start_time": "2021-06-06T09:52:23.485870Z"
    }
   },
   "outputs": [],
   "source": [
    "seed_range = np.arange(5,11)\n",
    "N = 8000"
   ]
  },
  {
   "cell_type": "code",
   "execution_count": 93,
   "id": "3cb1ccef",
   "metadata": {
    "ExecuteTime": {
     "end_time": "2021-06-06T11:32:42.711751Z",
     "start_time": "2021-06-06T11:32:42.706702Z"
    }
   },
   "outputs": [],
   "source": [
    "rewards_soft    = []\n",
    "rewards_hard    = []\n",
    "rewards_maddpg = []\n",
    "rewards_seed=[]\n",
    "rewards_safe_rew =[]\n",
    "\n",
    "collisions_seed=[]\n",
    "collisions_soft=[]\n",
    "collisions_maddpg=[]\n",
    "collisions_soft_rewards= []\n",
    "    \n",
    "infeasibilities_soft = []\n",
    "infeasibilities_hard = []"
   ]
  },
  {
   "cell_type": "code",
   "execution_count": 67,
   "id": "97e9b0c1",
   "metadata": {
    "ExecuteTime": {
     "end_time": "2021-06-06T10:33:24.996595Z",
     "start_time": "2021-06-06T10:33:24.987059Z"
    }
   },
   "outputs": [],
   "source": [
    "#list(range(0,8000, 10))*2"
   ]
  },
  {
   "cell_type": "code",
   "execution_count": 94,
   "id": "0eddff60",
   "metadata": {
    "ExecuteTime": {
     "end_time": "2021-06-06T11:32:56.844734Z",
     "start_time": "2021-06-06T11:32:56.816972Z"
    }
   },
   "outputs": [],
   "source": [
    "for seed in seed_range:\n",
    "    \n",
    "\n",
    "    # Import Results\n",
    "    \n",
    "    #rewards:\n",
    "    rewards_soft.append(np.load(safe_maddpg_soft +\"seed\" + str(seed) + \"/\" + 'rewards.npy')[0:N:10]) #list of arrays\n",
    "    #rewards_hard.append(np.load(safe_maddpg_hard + \"seed\" + str(seed) + \"/\"+'rewards.npy')[0:N])\n",
    "    rewards_maddpg.append(np.load(maddpg_vanilla + \"seed\" + str(seed) + \"/\" + 'rewards.npy')[0:N:10])\n",
    "    rewards_seed.append([seed]*len(rewards_soft[-1]))\n",
    "    \n",
    "    #collisions:\n",
    "    collisions_soft.append(np.load(safe_maddpg_soft + \"seed\" + str(seed) + \"/\" + 'collisions.npy')[0:N])\n",
    "    collisions_soft_rewards.append(np.load(safe_maddpg_soft_rewards + \"seed\" + str(seed) + \"/\" + 'collisions.npy')[0:N])\n",
    "    #collisions_hard = np.load(safe_maddpg_hard + \"seed\" + str(seed) + \"/\" + 'collisions.npy')[0:N]\n",
    "    collisions_maddpg.append(np.load(maddpg_vanilla + \"seed\" + str(seed) + \"/\" +'collisions.npy')[0:N])\n",
    "    collisions_seed.append([seed]*len(collisions_soft[-1]))\n",
    "    \n",
    "    \n",
    "    #infeasibilities:\n",
    "    #infeasibilities_soft.append(np.load(safe_maddpg_soft + \"seed\" + str(seed) + \"/\" +'infeasible.npy')[0:N])\n",
    "    #infeasibilities_hard.append(np.load(safe_maddpg_hard + \"seed\" + str(seed) + \"/\" +'infeasible.npy')[0:N])\n",
    "\n",
    "episodes_list_rew=list(range(0,8000, 10))*len(rewards_soft)\n",
    "episodes_list_col= list(range(0,8000))*len(rewards_soft)"
   ]
  },
  {
   "cell_type": "code",
   "execution_count": 58,
   "id": "ef05683d",
   "metadata": {
    "ExecuteTime": {
     "end_time": "2021-06-06T10:21:43.085537Z",
     "start_time": "2021-06-06T10:21:43.066875Z"
    }
   },
   "outputs": [],
   "source": [
    "rewards_soft_list = [item for sublist in rewards_soft for item in sublist]\n",
    "rewards_maddpg_list = [item for sublist in rewards_maddpg for item in sublist]\n",
    "rewards_seed_list= [item for sublist in rewards_seed for item in sublist]\n",
    "rewards_type=['soft_MADDPG']*len(rewards_soft_list) + ['MADDPG']*len(rewards_maddpg_list)"
   ]
  },
  {
   "cell_type": "code",
   "execution_count": 63,
   "id": "2ea69807",
   "metadata": {
    "ExecuteTime": {
     "end_time": "2021-06-06T10:24:02.350257Z",
     "start_time": "2021-06-06T10:24:02.327415Z"
    }
   },
   "outputs": [],
   "source": [
    "rewards_df=pd.DataFrame()\n",
    "rewards_df['type']=rewards_type\n",
    "rewards_df['seed']=rewards_seed_list*2\n",
    "rewards_df['reward']=rewards_soft_list + rewards_maddpg_list\n",
    "rewards_df['episode']=episodes_list_rew*2"
   ]
  },
  {
   "cell_type": "code",
   "execution_count": null,
   "id": "cd8cb3ab",
   "metadata": {},
   "outputs": [],
   "source": [
    "rewards_df.head()"
   ]
  },
  {
   "cell_type": "code",
   "execution_count": 96,
   "id": "2bf1c065",
   "metadata": {
    "ExecuteTime": {
     "end_time": "2021-06-06T11:33:24.487028Z",
     "start_time": "2021-06-06T11:33:24.456354Z"
    }
   },
   "outputs": [],
   "source": [
    "collisions_soft_list = [item for sublist in collisions_soft for item in sublist]\n",
    "collisions_soft_rewards_list = [item for sublist in collisions_soft_rewards for item in sublist]\n",
    "collisions_maddpg_list = [item for sublist in collisions_maddpg for item in sublist]\n",
    "collisions_seed_list= [item for sublist in collisions_seed for item in sublist]\n",
    "collisions_type=['soft_MADDPG']*len(collisions_soft_list) + ['MADDPG']*len(collisions_maddpg_list) + ['soft_MADDPG_rewards']*len(collisions_soft_rewards_list)"
   ]
  },
  {
   "cell_type": "code",
   "execution_count": 97,
   "id": "c04403f8",
   "metadata": {
    "ExecuteTime": {
     "end_time": "2021-06-06T11:33:26.976646Z",
     "start_time": "2021-06-06T11:33:26.838580Z"
    }
   },
   "outputs": [],
   "source": [
    "collisions_df=pd.DataFrame()\n",
    "collisions_df['Type']=collisions_type\n",
    "collisions_df['Seed']=collisions_seed_list*3\n",
    "collisions_df['Total Collisions']=collisions_soft_list + collisions_maddpg_list + collisions_soft_rewards_list\n",
    "collisions_df['Episode']=episodes_list_col*3"
   ]
  },
  {
   "cell_type": "code",
   "execution_count": 101,
   "id": "f8c3422f",
   "metadata": {
    "ExecuteTime": {
     "end_time": "2021-06-06T11:33:48.433235Z",
     "start_time": "2021-06-06T11:33:48.412192Z"
    }
   },
   "outputs": [
    {
     "data": {
      "text/html": [
       "<div>\n",
       "<style scoped>\n",
       "    .dataframe tbody tr th:only-of-type {\n",
       "        vertical-align: middle;\n",
       "    }\n",
       "\n",
       "    .dataframe tbody tr th {\n",
       "        vertical-align: top;\n",
       "    }\n",
       "\n",
       "    .dataframe thead th {\n",
       "        text-align: right;\n",
       "    }\n",
       "</style>\n",
       "<table border=\"1\" class=\"dataframe\">\n",
       "  <thead>\n",
       "    <tr style=\"text-align: right;\">\n",
       "      <th></th>\n",
       "      <th>Type</th>\n",
       "      <th>Seed</th>\n",
       "      <th>Total Collisions</th>\n",
       "      <th>Episode</th>\n",
       "    </tr>\n",
       "  </thead>\n",
       "  <tbody>\n",
       "    <tr>\n",
       "      <th>0</th>\n",
       "      <td>soft_MADDPG</td>\n",
       "      <td>5</td>\n",
       "      <td>0</td>\n",
       "      <td>0</td>\n",
       "    </tr>\n",
       "    <tr>\n",
       "      <th>1</th>\n",
       "      <td>soft_MADDPG</td>\n",
       "      <td>5</td>\n",
       "      <td>0</td>\n",
       "      <td>1</td>\n",
       "    </tr>\n",
       "    <tr>\n",
       "      <th>2</th>\n",
       "      <td>soft_MADDPG</td>\n",
       "      <td>5</td>\n",
       "      <td>0</td>\n",
       "      <td>2</td>\n",
       "    </tr>\n",
       "    <tr>\n",
       "      <th>3</th>\n",
       "      <td>soft_MADDPG</td>\n",
       "      <td>5</td>\n",
       "      <td>0</td>\n",
       "      <td>3</td>\n",
       "    </tr>\n",
       "    <tr>\n",
       "      <th>4</th>\n",
       "      <td>soft_MADDPG</td>\n",
       "      <td>5</td>\n",
       "      <td>1</td>\n",
       "      <td>4</td>\n",
       "    </tr>\n",
       "    <tr>\n",
       "      <th>...</th>\n",
       "      <td>...</td>\n",
       "      <td>...</td>\n",
       "      <td>...</td>\n",
       "      <td>...</td>\n",
       "    </tr>\n",
       "    <tr>\n",
       "      <th>143995</th>\n",
       "      <td>soft_MADDPG_rewards</td>\n",
       "      <td>10</td>\n",
       "      <td>2510</td>\n",
       "      <td>7995</td>\n",
       "    </tr>\n",
       "    <tr>\n",
       "      <th>143996</th>\n",
       "      <td>soft_MADDPG_rewards</td>\n",
       "      <td>10</td>\n",
       "      <td>2510</td>\n",
       "      <td>7996</td>\n",
       "    </tr>\n",
       "    <tr>\n",
       "      <th>143997</th>\n",
       "      <td>soft_MADDPG_rewards</td>\n",
       "      <td>10</td>\n",
       "      <td>2510</td>\n",
       "      <td>7997</td>\n",
       "    </tr>\n",
       "    <tr>\n",
       "      <th>143998</th>\n",
       "      <td>soft_MADDPG_rewards</td>\n",
       "      <td>10</td>\n",
       "      <td>2510</td>\n",
       "      <td>7998</td>\n",
       "    </tr>\n",
       "    <tr>\n",
       "      <th>143999</th>\n",
       "      <td>soft_MADDPG_rewards</td>\n",
       "      <td>10</td>\n",
       "      <td>2510</td>\n",
       "      <td>7999</td>\n",
       "    </tr>\n",
       "  </tbody>\n",
       "</table>\n",
       "<p>144000 rows × 4 columns</p>\n",
       "</div>"
      ],
      "text/plain": [
       "                       Type  Seed  Total Collisions  Episode\n",
       "0               soft_MADDPG     5                 0        0\n",
       "1               soft_MADDPG     5                 0        1\n",
       "2               soft_MADDPG     5                 0        2\n",
       "3               soft_MADDPG     5                 0        3\n",
       "4               soft_MADDPG     5                 1        4\n",
       "...                     ...   ...               ...      ...\n",
       "143995  soft_MADDPG_rewards    10              2510     7995\n",
       "143996  soft_MADDPG_rewards    10              2510     7996\n",
       "143997  soft_MADDPG_rewards    10              2510     7997\n",
       "143998  soft_MADDPG_rewards    10              2510     7998\n",
       "143999  soft_MADDPG_rewards    10              2510     7999\n",
       "\n",
       "[144000 rows x 4 columns]"
      ]
     },
     "execution_count": 101,
     "metadata": {},
     "output_type": "execute_result"
    }
   ],
   "source": [
    "collisions_df"
   ]
  },
  {
   "cell_type": "markdown",
   "id": "e47c6d21",
   "metadata": {},
   "source": [
    "### Plot for rewards: "
   ]
  },
  {
   "cell_type": "code",
   "execution_count": 66,
   "id": "fc7685c8",
   "metadata": {
    "ExecuteTime": {
     "end_time": "2021-06-06T10:25:37.287984Z",
     "start_time": "2021-06-06T10:25:12.269060Z"
    }
   },
   "outputs": [
    {
     "data": {
      "image/png": "[encoded data removed]",
      "text/plain": [
       "<Figure size 432x288 with 1 Axes>"
      ]
     },
     "metadata": {
      "needs_background": "light"
     },
     "output_type": "display_data"
    }
   ],
   "source": [
    "sns.lineplot(x = \"episode\", y = \"reward\",hue='type', data = rewards_df)\n",
    "plt.show()"
   ]
  },
  {
   "cell_type": "markdown",
   "id": "e211c330",
   "metadata": {},
   "source": [
    "### Plot for collisions:"
   ]
  },
  {
   "cell_type": "code",
   "execution_count": 102,
   "id": "bf419e43",
   "metadata": {
    "ExecuteTime": {
     "end_time": "2021-06-06T11:41:09.071623Z",
     "start_time": "2021-06-06T11:34:08.064042Z"
    }
   },
   "outputs": [
    {
     "data": {
      "image/png": "[encoded data removed]",
      "text/plain": [
       "<Figure size 432x288 with 1 Axes>"
      ]
     },
     "metadata": {
      "needs_background": "light"
     },
     "output_type": "display_data"
    }
   ],
   "source": [
    "sns.lineplot(x = \"Episode\", y = \"Total Collisions\",hue='Type', data = collisions_df)\n",
    "plt.show()"
   ]
  },
  {
   "cell_type": "code",
   "execution_count": 103,
   "id": "3b75db2d",
   "metadata": {
    "ExecuteTime": {
     "end_time": "2021-06-06T11:43:09.664569Z",
     "start_time": "2021-06-06T11:43:09.649407Z"
    }
   },
   "outputs": [],
   "source": [
    "collisions_soft_df=collisions_df[collisions_df['Type']!= 'MADDPG']"
   ]
  },
  {
   "cell_type": "code",
   "execution_count": 106,
   "id": "2a4ea558",
   "metadata": {
    "ExecuteTime": {
     "end_time": "2021-06-06T11:48:17.523353Z",
     "start_time": "2021-06-06T11:43:50.372120Z"
    }
   },
   "outputs": [
    {
     "data": {
      "image/png": "[encoded data removed]",
      "text/plain": [
       "<Figure size 432x288 with 1 Axes>"
      ]
     },
     "metadata": {
      "needs_background": "light"
     },
     "output_type": "display_data"
    }
   ],
   "source": [
    "sns.lineplot(x = \"Episode\", y = \"Total Collisions\",hue='Type', data = collisions_soft_df)\n",
    "plt.show()"
   ]
  }
 ],
 "metadata": {
  "kernelspec": {
   "display_name": "Python 3",
   "language": "python",
   "name": "python3"
  },
  "language_info": {
   "codemirror_mode": {
    "name": "ipython",
    "version": 3
   },
   "file_extension": ".py",
   "mimetype": "text/x-python",
   "name": "python",
   "nbconvert_exporter": "python",
   "pygments_lexer": "ipython3",
   "version": "3.8.3"
  }
 },
 "nbformat": 4,
 "nbformat_minor": 5
}
